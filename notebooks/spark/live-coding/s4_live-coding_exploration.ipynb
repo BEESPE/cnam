{
 "cells": [
  {
   "cell_type": "markdown",
   "metadata": {
    "application/vnd.databricks.v1+cell": {
     "cellMetadata": {},
     "inputWidgets": {},
     "nuid": "0a2a92bf-3f31-49d6-8c31-1a69dec04b8d",
     "showTitle": false,
     "tableResultSettingsMap": {},
     "title": ""
    }
   },
   "source": [
    "Uploader le fichier products.csv. Repérer les valeurs aberrantes dans le fichier (ordre de grandeur : plusieurs centaines)."
   ]
  },
  {
   "cell_type": "code",
   "execution_count": 0,
   "metadata": {
    "application/vnd.databricks.v1+cell": {
     "cellMetadata": {
      "byteLimit": 2048000,
      "rowLimit": 10000
     },
     "inputWidgets": {},
     "nuid": "5eef8ab1-3b9e-45b5-9383-fc658f2f4af9",
     "showTitle": false,
     "tableResultSettingsMap": {},
     "title": ""
    }
   },
   "outputs": [],
   "source": [
    "%fs ls /FileStore/tables"
   ]
  },
  {
   "cell_type": "code",
   "execution_count": 0,
   "metadata": {
    "application/vnd.databricks.v1+cell": {
     "cellMetadata": {
      "byteLimit": 2048000,
      "rowLimit": 10000
     },
     "inputWidgets": {},
     "nuid": "ba19d5a7-4227-4323-a60b-f44d58bdc026",
     "showTitle": false,
     "tableResultSettingsMap": {},
     "title": ""
    }
   },
   "outputs": [],
   "source": [
    "product_df = spark.read.csv(\"/FileStore/tables/SPN_products.csv\", header=True, inferSchema=True)"
   ]
  },
  {
   "cell_type": "code",
   "execution_count": 0,
   "metadata": {
    "application/vnd.databricks.v1+cell": {
     "cellMetadata": {
      "byteLimit": 2048000,
      "rowLimit": 10000
     },
     "inputWidgets": {},
     "nuid": "a0df2278-cb57-4ff2-a6ee-8890b7deea48",
     "showTitle": false,
     "tableResultSettingsMap": {},
     "title": ""
    }
   },
   "outputs": [],
   "source": [
    "from pyspark.sql.functions import col\n",
    "\n",
    "columns_to_sum = [\n",
    "    \"fat_100g\",\n",
    "    \"sugars_100g\",\n",
    "    \"fiber_100g\", \n",
    "    \"proteins_100g\",\n",
    "    \"salt_100g\",\n",
    "    \"autre\",\n",
    "]\n",
    "\n",
    "condition = sum([col(column) for column in columns_to_sum]) > 100\n",
    "df_sum_more_than_100 = product_df.filter(condition)"
   ]
  },
  {
   "cell_type": "code",
   "execution_count": 0,
   "metadata": {
    "application/vnd.databricks.v1+cell": {
     "cellMetadata": {
      "byteLimit": 2048000,
      "rowLimit": 10000
     },
     "inputWidgets": {},
     "nuid": "78596f04-48ec-4a4c-8c57-14c2fce657a2",
     "showTitle": false,
     "tableResultSettingsMap": {},
     "title": ""
    }
   },
   "outputs": [
    {
     "output_type": "stream",
     "name": "stdout",
     "output_type": "stream",
     "text": [
      "+----+-------------+--------+------------------+-----------+----------+-------------+---------+-----------+-----+\n| _c0|         code|fat_100g|saturated-fat_100g|sugars_100g|fiber_100g|proteins_100g|salt_100g|sodium_100g|autre|\n+----+-------------+--------+------------------+-----------+----------+-------------+---------+-----------+-----+\n|  87|      34449.0|   57.14|              7.14|       3.57|      17.9|        21.43|  1.08966|      0.429|  0.0|\n| 310| 6.09231508E8|   33.33|             21.43|      57.14|       0.0|         9.52|  0.18034|      0.071|  0.0|\n| 318| 6.09941759E8|   33.33|             19.44|      55.56|       2.8|         8.33|  0.21082|      0.083|  0.0|\n| 319| 6.09941766E8|   33.33|             19.44|      55.56|       2.8|         8.33|  0.21082|      0.083|  0.0|\n| 324| 6.09983001E8|   33.33|             19.44|      55.56|       2.8|         8.33|  0.21082|      0.083|  0.0|\n| 646| 6.44600352E9|    40.0|              25.0|       50.0|       2.5|          7.5|   0.1905|      0.075|  0.0|\n| 862|8.725061177E9|   34.88|             23.26|      55.81|       2.3|         6.98|  0.20574|      0.081|  0.0|\n| 878|8.725247045E9|   19.05|             10.71|      64.29|       2.4|         50.0|  0.06096|      0.024|  0.0|\n|1035|9.349100105E9|     0.0|               0.0|       60.0|      60.0|          0.0|   10.668|        4.2|  0.0|\n|1054|9.542006723E9|   52.78|             36.11|      38.89|       2.8|         5.56|  0.17526|      0.069|  0.0|\n|1055|9.542007102E9|   52.78|             36.11|      38.89|       2.8|         5.56|  0.17526|      0.069|  0.0|\n|1087|9.542011697E9|   52.78|             36.11|      38.89|       2.8|         5.56|  0.17526|      0.069|  0.0|\n|1088|9.542011703E9|   52.78|             38.89|      38.89|       2.8|         5.56|  0.21082|      0.083|  0.0|\n|1089| 9.54201171E9|   52.78|             38.89|      38.89|       2.8|         5.56|  0.21082|      0.083|  0.0|\n|1090|9.542011734E9|   52.78|             38.89|      38.89|       2.8|         5.56|  0.21082|      0.083|  0.0|\n|1091|9.542011741E9|   52.78|             38.89|      38.89|       2.8|         5.56|  0.21082|      0.083|  0.0|\n|1092|9.542011758E9|   52.78|             38.89|      38.89|       2.8|         5.56|  0.21082|      0.083|  0.0|\n|1106|9.542013042E9|   52.78|             38.89|      38.89|       2.8|         5.56|  0.21082|      0.083|  0.0|\n|1121|9.542014759E9|   52.78|             36.11|      38.89|       2.8|         5.56|  0.17526|      0.069|  0.0|\n|1137|9.542015824E9|   54.17|              37.5|       37.5|       4.2|         4.17|  0.21082|      0.083|  0.0|\n+----+-------------+--------+------------------+-----------+----------+-------------+---------+-----------+-----+\nonly showing top 20 rows\n\n971\n"
     ]
    }
   ],
   "source": [
    "display(df_sum_more_than_100.show())\n",
    "print(df_sum_more_than_100.count())"
   ]
  },
  {
   "cell_type": "code",
   "execution_count": 0,
   "metadata": {
    "application/vnd.databricks.v1+cell": {
     "cellMetadata": {
      "byteLimit": 2048000,
      "rowLimit": 10000
     },
     "inputWidgets": {},
     "nuid": "c13966d9-05d8-4e69-9a95-528c0090e952",
     "showTitle": false,
     "tableResultSettingsMap": {},
     "title": ""
    }
   },
   "outputs": [
    {
     "output_type": "stream",
     "name": "stdout",
     "output_type": "stream",
     "text": [
      "Out[14]: 176"
     ]
    }
   ],
   "source": [
    "from pyspark.sql.functions import col\n",
    "duplicates = product_df.groupBy(\"code\").count().filter(col(\"count\") > 1)\n",
    "duplicates.count()"
   ]
  },
  {
   "cell_type": "code",
   "execution_count": 0,
   "metadata": {
    "application/vnd.databricks.v1+cell": {
     "cellMetadata": {
      "byteLimit": 2048000,
      "rowLimit": 10000
     },
     "inputWidgets": {},
     "nuid": "3f6b22c6-b20d-4240-ba58-b1d385a555b7",
     "showTitle": false,
     "tableResultSettingsMap": {},
     "title": ""
    }
   },
   "outputs": [],
   "source": [
    "from pyspark.sql.functions import col\n",
    "\n",
    "columns_to_check = [\n",
    "    \"fat_100g\",\n",
    "    \"saturated-fat_100g\",\n",
    "    \"sugars_100g\",\n",
    "    \"fiber_100g\",\n",
    "    \"proteins_100g\",\n",
    "    \"salt_100g\", \n",
    "    \"sodium_100g\",\n",
    "    \"autre\",\n",
    "]\n",
    "\n",
    "condition = None\n",
    "for column in columns_to_check:\n",
    "    if condition is None:\n",
    "        condition = col(column) > 100\n",
    "    else:\n",
    "        condition |= col(column) > 100\n",
    "\n",
    "df_sup_100 = product_df.filter(condition)"
   ]
  },
  {
   "cell_type": "code",
   "execution_count": 0,
   "metadata": {
    "application/vnd.databricks.v1+cell": {
     "cellMetadata": {
      "byteLimit": 2048000,
      "rowLimit": 10000
     },
     "inputWidgets": {},
     "nuid": "499ad0e2-1854-4838-9894-1eb8b9219f6d",
     "showTitle": false,
     "tableResultSettingsMap": {},
     "title": ""
    }
   },
   "outputs": [
    {
     "output_type": "stream",
     "name": "stdout",
     "output_type": "stream",
     "text": [
      "+-----+---------------+--------+------------------+-----------+----------+-------------+---------+-----------+-----+\n|  _c0|           code|fat_100g|saturated-fat_100g|sugars_100g|fiber_100g|proteins_100g|salt_100g|sodium_100g|autre|\n+-----+---------------+--------+------------------+-----------+----------+-------------+---------+-----------+-----+\n|  501|  2.124810206E9|     0.0|              null|       null|      null|          0.0|105.83418|     41.667|  0.0|\n| 1435| 1.030033529E10|   45.71|              8.57|       5.71|       5.7|        17.14|870.85678|    342.857|  0.0|\n| 3472|1.1110825261E10|     0.0|               0.0|       null|      null|          0.0|    101.6|       40.0|  0.0|\n| 7037|1.1161036074E10|     0.0|              null|       null|      null|          0.0|    101.6|       40.0|  0.0|\n| 7983|1.1213053264E10|    0.77|               0.0|       2.31|       3.8|         4.62|781.53768|    307.692|  0.0|\n|11129|1.3964151954E10|   30.65|              2.42|      22.58|       1.6|         4.84|327.74128|    129.032|  0.0|\n|18588|2.1140024862E10|     0.0|              null|       null|      null|          0.0|105.83418|     41.667|  0.0|\n|18845|2.1248102066E10|     0.0|              null|       null|      null|          0.0|105.83418|     41.667|  0.0|\n|18848|2.1248102585E10|     0.0|              null|       null|      null|          0.0|   106.68|       42.0|  0.0|\n|18851|2.1248105067E10|     0.0|              null|       null|      null|          0.0|    101.6|       40.0|  0.0|\n|18856|2.1248108587E10|     0.0|              null|       null|      null|          0.0|   106.68|       42.0|  0.0|\n|18857|2.1248140082E10|     0.0|              null|       null|      null|          0.0|    101.6|       40.0|  0.0|\n|18858|2.1248140587E10|     0.0|              null|       null|      null|          0.0|  105.664|       41.6|  0.0|\n|18859|2.1248140594E10|     0.0|              null|       null|      null|          0.0|   106.68|       42.0|  0.0|\n|18869|2.1248167065E10|     0.0|              null|       null|      null|          0.0|    101.6|       40.0|  0.0|\n|18877|2.1248221125E10|     0.0|              null|       null|      null|          0.0|105.83418|     41.667|  0.0|\n|18878|2.1248231186E10|     0.0|              null|       null|      null|          0.0|   106.68|       42.0|  0.0|\n|19014|2.1500010429E10|     0.0|              null|       null|      null|          0.0|    101.6|       40.0|  0.0|\n|20821|2.4000163114E10|     0.0|               0.0|       3.12|       3.1|         2.34|  714.375|     281.25|  0.0|\n|21619|2.4600010931E10|     0.0|              null|       null|      null|          0.0|    101.6|       40.0|  0.0|\n+-----+---------------+--------+------------------+-----------+----------+-------------+---------+-----------+-----+\nonly showing top 20 rows\n\n178\n"
     ]
    }
   ],
   "source": [
    "df_sup_100.show()\n",
    "print(df_sup_100.count())"
   ]
  },
  {
   "cell_type": "code",
   "execution_count": 0,
   "metadata": {
    "application/vnd.databricks.v1+cell": {
     "cellMetadata": {
      "byteLimit": 2048000,
      "rowLimit": 10000
     },
     "inputWidgets": {},
     "nuid": "8044b797-c38d-44ec-8b62-38eb5b9dbdfc",
     "showTitle": false,
     "tableResultSettingsMap": {},
     "title": ""
    }
   },
   "outputs": [
    {
     "output_type": "stream",
     "name": "stdout",
     "output_type": "stream",
     "text": [
      "Out[19]: 354"
     ]
    }
   ],
   "source": [
    "df_fat_less_than_saturated = product_df.filter(col(\"fat_100g\") < col(\"saturated-fat_100g\"))\n",
    "df_fat_less_than_saturated.count()"
   ]
  },
  {
   "cell_type": "code",
   "execution_count": 0,
   "metadata": {
    "application/vnd.databricks.v1+cell": {
     "cellMetadata": {},
     "inputWidgets": {},
     "nuid": "89ce2b72-52bf-484d-9752-ad7f59c3c5f1",
     "showTitle": false,
     "tableResultSettingsMap": {},
     "title": ""
    }
   },
   "outputs": [],
   "source": []
  }
 ],
 "metadata": {
  "application/vnd.databricks.v1+notebook": {
   "dashboards": [],
   "environmentMetadata": null,
   "language": "python",
   "notebookMetadata": {
    "mostRecentlyExecutedCommandWithImplicitDF": {
     "commandId": 1147688518897309,
     "dataframes": [
      "_sqldf"
     ]
    },
    "pythonIndentUnit": 4
   },
   "notebookName": "s4_live-coding_exploration",
   "widgets": {}
  },
  "language_info": {
   "name": "python"
  }
 },
 "nbformat": 4,
 "nbformat_minor": 0
}
