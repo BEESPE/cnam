{
 "cells": [
  {
   "cell_type": "markdown",
   "metadata": {
    "application/vnd.databricks.v1+cell": {
     "cellMetadata": {},
     "inputWidgets": {},
     "nuid": "00b5e028-9f2a-44ab-846e-9e73e1bd6eb5",
     "showTitle": false,
     "tableResultSettingsMap": {},
     "title": ""
    }
   },
   "source": [
    "Charger les données cancer_reg (un header est présent, de plus, utiliser l'option inferSchema)."
   ]
  },
  {
   "cell_type": "code",
   "execution_count": 0,
   "metadata": {
    "application/vnd.databricks.v1+cell": {
     "cellMetadata": {
      "byteLimit": 2048000,
      "rowLimit": 10000
     },
     "inputWidgets": {},
     "nuid": "f63a4645-a40f-4db7-8949-2a4f7a2f8540",
     "showTitle": false,
     "tableResultSettingsMap": {},
     "title": ""
    }
   },
   "outputs": [],
   "source": [
    "%fs ls /FileStore/tables"
   ]
  },
  {
   "cell_type": "markdown",
   "metadata": {
    "application/vnd.databricks.v1+cell": {
     "cellMetadata": {},
     "inputWidgets": {},
     "nuid": "c74cfb26-eda0-4eaa-8c8b-88225b013d0f",
     "showTitle": false,
     "tableResultSettingsMap": {},
     "title": ""
    }
   },
   "source": [
    "A l'aide de la commande dir, afficher les méthodes pouvant être utilisées sur data. Afficher les 10 premières lignes du dataframe ainsi chargé."
   ]
  },
  {
   "cell_type": "code",
   "execution_count": 0,
   "metadata": {
    "application/vnd.databricks.v1+cell": {
     "cellMetadata": {
      "byteLimit": 2048000,
      "rowLimit": 10000
     },
     "inputWidgets": {},
     "nuid": "4f702be7-7adf-4b6e-8e5f-d14e450b7d38",
     "showTitle": false,
     "tableResultSettingsMap": {},
     "title": ""
    }
   },
   "outputs": [],
   "source": [
    "cancer_df = spark.read.csv(\"/FileStore/tables/cancer_reg.csv\", inferSchema=True, header=True)"
   ]
  },
  {
   "cell_type": "code",
   "execution_count": 0,
   "metadata": {
    "application/vnd.databricks.v1+cell": {
     "cellMetadata": {
      "byteLimit": 2048000,
      "rowLimit": 10000
     },
     "inputWidgets": {},
     "nuid": "871775e4-c48d-410b-bc57-1831f2c6e071",
     "showTitle": false,
     "tableResultSettingsMap": {},
     "title": ""
    }
   },
   "outputs": [
    {
     "output_type": "stream",
     "name": "stdout",
     "output_type": "stream",
     "text": [
      "Out[6]: ['__class__',\n '__delattr__',\n '__dict__',\n '__dir__',\n '__doc__',\n '__eq__',\n '__format__',\n '__ge__',\n '__getattr__',\n '__getattribute__',\n '__getitem__',\n '__gt__',\n '__hash__',\n '__init__',\n '__init_subclass__',\n '__le__',\n '__lt__',\n '__module__',\n '__ne__',\n '__new__',\n '__reduce__',\n '__reduce_ex__',\n '__repr__',\n '__setattr__',\n '__sizeof__',\n '__str__',\n '__subclasshook__',\n '__weakref__',\n '_collect_as_arrow',\n '_jcols',\n '_jdf',\n '_jmap',\n '_joinAsOf',\n '_jseq',\n '_lazy_rdd',\n '_repr_html_',\n '_sc',\n '_schema',\n '_session',\n '_sort_cols',\n '_sql_ctx',\n '_support_repr_html',\n '_to_corrected_pandas_type',\n 'agg',\n 'alias',\n 'approxQuantile',\n 'cache',\n 'checkpoint',\n 'coalesce',\n 'colRegex',\n 'collect',\n 'columns',\n 'corr',\n 'count',\n 'cov',\n 'createGlobalTempView',\n 'createOrReplaceGlobalTempView',\n 'createOrReplaceTempView',\n 'createTempView',\n 'crossJoin',\n 'crosstab',\n 'cube',\n 'describe',\n 'display',\n 'distinct',\n 'drop',\n 'dropDuplicates',\n 'drop_duplicates',\n 'dropna',\n 'dtypes',\n 'exceptAll',\n 'explain',\n 'fillna',\n 'filter',\n 'first',\n 'foreach',\n 'foreachPartition',\n 'freqItems',\n 'groupBy',\n 'groupby',\n 'head',\n 'hint',\n 'inputFiles',\n 'intersect',\n 'intersectAll',\n 'isEmpty',\n 'isLocal',\n 'isStreaming',\n 'is_cached',\n 'join',\n 'limit',\n 'localCheckpoint',\n 'mapInArrow',\n 'mapInPandas',\n 'melt',\n 'na',\n 'observe',\n 'orderBy',\n 'pandas_api',\n 'persist',\n 'printSchema',\n 'randomSplit',\n 'rdd',\n 'registerTempTable',\n 'repartition',\n 'repartitionByRange',\n 'replace',\n 'rollup',\n 'sameSemantics',\n 'sample',\n 'sampleBy',\n 'schema',\n 'select',\n 'selectExpr',\n 'semanticHash',\n 'show',\n 'sort',\n 'sortWithinPartitions',\n 'sparkSession',\n 'sql_ctx',\n 'stat',\n 'storageLevel',\n 'subtract',\n 'summary',\n 'tail',\n 'take',\n 'to',\n 'toDF',\n 'toJSON',\n 'toLocalIterator',\n 'toPandas',\n 'to_koalas',\n 'to_pandas_on_spark',\n 'transform',\n 'union',\n 'unionAll',\n 'unionByName',\n 'unpersist',\n 'unpivot',\n 'where',\n 'withColumn',\n 'withColumnRenamed',\n 'withColumns',\n 'withMetadata',\n 'withWatermark',\n 'write',\n 'writeStream',\n 'writeTo']"
     ]
    }
   ],
   "source": [
    "dir(cancer_df)"
   ]
  },
  {
   "cell_type": "code",
   "execution_count": 0,
   "metadata": {
    "application/vnd.databricks.v1+cell": {
     "cellMetadata": {
      "byteLimit": 2048000,
      "rowLimit": 10000
     },
     "inputWidgets": {},
     "nuid": "a92c704f-ecda-4c73-b34f-826f51a9ca4f",
     "showTitle": false,
     "tableResultSettingsMap": {},
     "title": ""
    }
   },
   "outputs": [
    {
     "output_type": "display_data",
     "data": {
      "text/html": [
       "<style scoped>\n",
       "  .table-result-container {\n",
       "    max-height: 300px;\n",
       "    overflow: auto;\n",
       "  }\n",
       "  table, th, td {\n",
       "    border: 1px solid black;\n",
       "    border-collapse: collapse;\n",
       "  }\n",
       "  th, td {\n",
       "    padding: 5px;\n",
       "  }\n",
       "  th {\n",
       "    text-align: left;\n",
       "  }\n",
       "</style><div class='table-result-container'><table class='table-result'><thead style='background-color: white'><tr><th>avgAnnCount</th><th>avgDeathsPerYear</th><th>TARGET_deathRate</th><th>incidenceRate</th><th>medIncome</th><th>popEst2015</th><th>povertyPercent</th><th>studyPerCap</th><th>binnedInc</th><th>MedianAge</th><th>MedianAgeMale</th><th>MedianAgeFemale</th><th>Geography</th><th>AvgHouseholdSize</th><th>PercentMarried</th><th>PctNoHS18_24</th><th>PctHS18_24</th><th>PctSomeCol18_24</th><th>PctBachDeg18_24</th><th>PctHS25_Over</th><th>PctBachDeg25_Over</th><th>PctEmployed16_Over</th><th>PctUnemployed16_Over</th><th>PctPrivateCoverage</th><th>PctPrivateCoverageAlone</th><th>PctEmpPrivCoverage</th><th>PctPublicCoverage</th><th>PctPublicCoverageAlone</th><th>PctWhite</th><th>PctBlack</th><th>PctAsian</th><th>PctOtherRace</th><th>PctMarriedHouseholds</th><th>BirthRate</th></tr></thead><tbody><tr><td>1397.0</td><td>469</td><td>164.9</td><td>489.8</td><td>61898</td><td>260131</td><td>11.2</td><td>499.7482038</td><td>(61494.5, 125635]</td><td>39.3</td><td>36.9</td><td>41.7</td><td>Kitsap County, Washington</td><td>2.54</td><td>52.5</td><td>11.5</td><td>39.5</td><td>42.1</td><td>6.9</td><td>23.2</td><td>19.6</td><td>51.9</td><td>8.0</td><td>75.1</td><td>null</td><td>41.6</td><td>32.9</td><td>14.0</td><td>81.78052858</td><td>2.594728333</td><td>4.821857102</td><td>1.843478533</td><td>52.85607588</td><td>6.118831029</td></tr><tr><td>173.0</td><td>70</td><td>161.3</td><td>411.6</td><td>48127</td><td>43269</td><td>18.6</td><td>23.11123437</td><td>(48021.6, 51046.4]</td><td>33.0</td><td>32.2</td><td>33.7</td><td>Kittitas County, Washington</td><td>2.34</td><td>44.5</td><td>6.1</td><td>22.4</td><td>64.0</td><td>7.5</td><td>26.0</td><td>22.7</td><td>55.9</td><td>7.8</td><td>70.2</td><td>53.8</td><td>43.6</td><td>31.1</td><td>15.3</td><td>89.22850915</td><td>0.969102455</td><td>2.246232585</td><td>3.741351531</td><td>45.37250044</td><td>4.333095578</td></tr><tr><td>102.0</td><td>50</td><td>174.7</td><td>349.7</td><td>49348</td><td>21026</td><td>14.6</td><td>47.56016361</td><td>(48021.6, 51046.4]</td><td>45.0</td><td>44.0</td><td>45.8</td><td>Klickitat County, Washington</td><td>2.62</td><td>54.2</td><td>24.0</td><td>36.6</td><td>null</td><td>9.5</td><td>29.0</td><td>16.0</td><td>45.9</td><td>7.0</td><td>63.7</td><td>43.5</td><td>34.9</td><td>42.1</td><td>21.1</td><td>90.9221902</td><td>0.739673391</td><td>0.465898175</td><td>2.747358309</td><td>54.44486837</td><td>3.729487817</td></tr><tr><td>427.0</td><td>202</td><td>194.8</td><td>430.4</td><td>44243</td><td>75882</td><td>17.1</td><td>342.6372526</td><td>(42724.4, 45201]</td><td>42.8</td><td>42.2</td><td>43.4</td><td>Lewis County, Washington</td><td>2.52</td><td>52.7</td><td>20.2</td><td>41.2</td><td>36.1</td><td>2.5</td><td>31.6</td><td>9.3</td><td>48.3</td><td>12.1</td><td>58.4</td><td>40.3</td><td>35.0</td><td>45.3</td><td>25.0</td><td>91.74468649</td><td>0.782625968</td><td>1.16135867</td><td>1.362643183</td><td>51.02151448</td><td>4.603840773</td></tr><tr><td>57.0</td><td>26</td><td>144.4</td><td>350.1</td><td>49955</td><td>10321</td><td>12.5</td><td>0.0</td><td>(48021.6, 51046.4]</td><td>48.3</td><td>47.8</td><td>48.9</td><td>Lincoln County, Washington</td><td>2.34</td><td>57.8</td><td>14.9</td><td>43.0</td><td>40.0</td><td>2.0</td><td>33.4</td><td>15.0</td><td>48.2</td><td>4.8</td><td>61.6</td><td>43.9</td><td>35.1</td><td>44.0</td><td>22.7</td><td>94.10402393</td><td>0.270192029</td><td>0.665830358</td><td>0.492135482</td><td>54.02745995</td><td>6.796657382</td></tr><tr><td>428.0</td><td>152</td><td>176.0</td><td>505.4</td><td>52313</td><td>61023</td><td>15.6</td><td>180.259902</td><td>(51046.4, 54545.6]</td><td>45.4</td><td>43.5</td><td>48.0</td><td>Mason County, Washington</td><td>2.58</td><td>50.4</td><td>29.9</td><td>35.1</td><td>null</td><td>4.5</td><td>30.4</td><td>11.9</td><td>44.1</td><td>12.9</td><td>60.0</td><td>38.8</td><td>32.6</td><td>43.2</td><td>20.2</td><td>84.88263065</td><td>1.653205244</td><td>1.53805662</td><td>3.31463539</td><td>51.22035959</td><td>4.964476021</td></tr><tr><td>250.0</td><td>97</td><td>175.9</td><td>461.8</td><td>37782</td><td>41516</td><td>23.2</td><td>0.0</td><td>(37413.8, 40362.7]</td><td>42.6</td><td>42.2</td><td>43.5</td><td>Okanogan County, Washington</td><td>2.42</td><td>54.1</td><td>26.1</td><td>41.4</td><td>null</td><td>5.8</td><td>29.8</td><td>11.9</td><td>51.8</td><td>8.9</td><td>49.5</td><td>35.0</td><td>28.3</td><td>46.4</td><td>28.7</td><td>75.10645505</td><td>0.616955386</td><td>0.866156973</td><td>8.356721185</td><td>51.01389975</td><td>4.204317269</td></tr><tr><td>146.0</td><td>71</td><td>183.6</td><td>404.0</td><td>40189</td><td>20848</td><td>17.8</td><td>0.0</td><td>(37413.8, 40362.7]</td><td>51.7</td><td>50.8</td><td>52.5</td><td>Pacific County, Washington</td><td>2.24</td><td>52.7</td><td>27.3</td><td>33.9</td><td>36.5</td><td>2.2</td><td>31.6</td><td>11.3</td><td>40.9</td><td>8.9</td><td>55.8</td><td>33.1</td><td>25.9</td><td>50.9</td><td>24.1</td><td>89.40663599</td><td>0.305158634</td><td>1.889077258</td><td>2.286267861</td><td>48.96703297</td><td>5.889178996</td></tr><tr><td>88.0</td><td>36</td><td>190.5</td><td>459.4</td><td>42579</td><td>13088</td><td>22.3</td><td>0.0</td><td>(40362.7, 42724.4]</td><td>49.3</td><td>48.4</td><td>49.8</td><td>Pend Oreille County, Washington</td><td>2.38</td><td>55.9</td><td>34.7</td><td>39.4</td><td>null</td><td>1.4</td><td>32.2</td><td>12.0</td><td>39.5</td><td>10.3</td><td>55.5</td><td>37.8</td><td>29.9</td><td>48.1</td><td>26.6</td><td>91.78747687</td><td>0.185070944</td><td>0.208204812</td><td>0.616903146</td><td>53.44699778</td><td>5.587583149</td></tr><tr><td>4025.0</td><td>1380</td><td>177.8</td><td>510.9</td><td>60397</td><td>843954</td><td>13.1</td><td>427.7484318</td><td>(54545.6, 61494.5]</td><td>35.8</td><td>34.7</td><td>37.0</td><td>Pierce County, Washington</td><td>2.65</td><td>50.0</td><td>15.6</td><td>36.3</td><td>null</td><td>7.1</td><td>28.8</td><td>16.2</td><td>56.6</td><td>9.2</td><td>69.9</td><td>null</td><td>44.4</td><td>31.4</td><td>16.5</td><td>74.72966791</td><td>6.710854162</td><td>6.041472008</td><td>2.699184381</td><td>50.06357342</td><td>5.533430211</td></tr></tbody></table></div>"
      ]
     },
     "metadata": {
      "application/vnd.databricks.v1+output": {
       "addedWidgets": {},
       "aggData": [],
       "aggError": "",
       "aggOverflow": false,
       "aggSchema": [],
       "aggSeriesLimitReached": false,
       "aggType": "",
       "arguments": {},
       "columnCustomDisplayInfos": {},
       "data": [
        [
         1397.0,
         469,
         164.9,
         489.8,
         61898,
         260131,
         11.2,
         499.7482038,
         "(61494.5, 125635]",
         39.3,
         36.9,
         41.7,
         "Kitsap County, Washington",
         2.54,
         52.5,
         11.5,
         39.5,
         42.1,
         6.9,
         23.2,
         19.6,
         51.9,
         8.0,
         75.1,
         null,
         41.6,
         32.9,
         14.0,
         81.78052858,
         2.594728333,
         4.821857102,
         1.843478533,
         52.85607588,
         6.118831029
        ],
        [
         173.0,
         70,
         161.3,
         411.6,
         48127,
         43269,
         18.6,
         23.11123437,
         "(48021.6, 51046.4]",
         33.0,
         32.2,
         33.7,
         "Kittitas County, Washington",
         2.34,
         44.5,
         6.1,
         22.4,
         64.0,
         7.5,
         26.0,
         22.7,
         55.9,
         7.8,
         70.2,
         53.8,
         43.6,
         31.1,
         15.3,
         89.22850915,
         0.969102455,
         2.246232585,
         3.741351531,
         45.37250044,
         4.333095578
        ],
        [
         102.0,
         50,
         174.7,
         349.7,
         49348,
         21026,
         14.6,
         47.56016361,
         "(48021.6, 51046.4]",
         45.0,
         44.0,
         45.8,
         "Klickitat County, Washington",
         2.62,
         54.2,
         24.0,
         36.6,
         null,
         9.5,
         29.0,
         16.0,
         45.9,
         7.0,
         63.7,
         43.5,
         34.9,
         42.1,
         21.1,
         90.9221902,
         0.739673391,
         0.465898175,
         2.747358309,
         54.44486837,
         3.729487817
        ],
        [
         427.0,
         202,
         194.8,
         430.4,
         44243,
         75882,
         17.1,
         342.6372526,
         "(42724.4, 45201]",
         42.8,
         42.2,
         43.4,
         "Lewis County, Washington",
         2.52,
         52.7,
         20.2,
         41.2,
         36.1,
         2.5,
         31.6,
         9.3,
         48.3,
         12.1,
         58.4,
         40.3,
         35.0,
         45.3,
         25.0,
         91.74468649,
         0.782625968,
         1.16135867,
         1.362643183,
         51.02151448,
         4.603840773
        ],
        [
         57.0,
         26,
         144.4,
         350.1,
         49955,
         10321,
         12.5,
         0.0,
         "(48021.6, 51046.4]",
         48.3,
         47.8,
         48.9,
         "Lincoln County, Washington",
         2.34,
         57.8,
         14.9,
         43.0,
         40.0,
         2.0,
         33.4,
         15.0,
         48.2,
         4.8,
         61.6,
         43.9,
         35.1,
         44.0,
         22.7,
         94.10402393,
         0.270192029,
         0.665830358,
         0.492135482,
         54.02745995,
         6.796657382
        ],
        [
         428.0,
         152,
         176.0,
         505.4,
         52313,
         61023,
         15.6,
         180.259902,
         "(51046.4, 54545.6]",
         45.4,
         43.5,
         48.0,
         "Mason County, Washington",
         2.58,
         50.4,
         29.9,
         35.1,
         null,
         4.5,
         30.4,
         11.9,
         44.1,
         12.9,
         60.0,
         38.8,
         32.6,
         43.2,
         20.2,
         84.88263065,
         1.653205244,
         1.53805662,
         3.31463539,
         51.22035959,
         4.964476021
        ],
        [
         250.0,
         97,
         175.9,
         461.8,
         37782,
         41516,
         23.2,
         0.0,
         "(37413.8, 40362.7]",
         42.6,
         42.2,
         43.5,
         "Okanogan County, Washington",
         2.42,
         54.1,
         26.1,
         41.4,
         null,
         5.8,
         29.8,
         11.9,
         51.8,
         8.9,
         49.5,
         35.0,
         28.3,
         46.4,
         28.7,
         75.10645505,
         0.616955386,
         0.866156973,
         8.356721185,
         51.01389975,
         4.204317269
        ],
        [
         146.0,
         71,
         183.6,
         404.0,
         40189,
         20848,
         17.8,
         0.0,
         "(37413.8, 40362.7]",
         51.7,
         50.8,
         52.5,
         "Pacific County, Washington",
         2.24,
         52.7,
         27.3,
         33.9,
         36.5,
         2.2,
         31.6,
         11.3,
         40.9,
         8.9,
         55.8,
         33.1,
         25.9,
         50.9,
         24.1,
         89.40663599,
         0.305158634,
         1.889077258,
         2.286267861,
         48.96703297,
         5.889178996
        ],
        [
         88.0,
         36,
         190.5,
         459.4,
         42579,
         13088,
         22.3,
         0.0,
         "(40362.7, 42724.4]",
         49.3,
         48.4,
         49.8,
         "Pend Oreille County, Washington",
         2.38,
         55.9,
         34.7,
         39.4,
         null,
         1.4,
         32.2,
         12.0,
         39.5,
         10.3,
         55.5,
         37.8,
         29.9,
         48.1,
         26.6,
         91.78747687,
         0.185070944,
         0.208204812,
         0.616903146,
         53.44699778,
         5.587583149
        ],
        [
         4025.0,
         1380,
         177.8,
         510.9,
         60397,
         843954,
         13.1,
         427.7484318,
         "(54545.6, 61494.5]",
         35.8,
         34.7,
         37.0,
         "Pierce County, Washington",
         2.65,
         50.0,
         15.6,
         36.3,
         null,
         7.1,
         28.8,
         16.2,
         56.6,
         9.2,
         69.9,
         null,
         44.4,
         31.4,
         16.5,
         74.72966791,
         6.710854162,
         6.041472008,
         2.699184381,
         50.06357342,
         5.533430211
        ]
       ],
       "datasetInfos": [],
       "dbfsResultPath": null,
       "isJsonSchema": true,
       "metadata": {},
       "overflow": false,
       "plotOptions": {
        "customPlotOptions": {},
        "displayType": "table",
        "pivotAggregation": null,
        "pivotColumns": null,
        "xColumns": null,
        "yColumns": null
       },
       "removedWidgets": [],
       "schema": [
        {
         "metadata": "{}",
         "name": "avgAnnCount",
         "type": "\"double\""
        },
        {
         "metadata": "{}",
         "name": "avgDeathsPerYear",
         "type": "\"long\""
        },
        {
         "metadata": "{}",
         "name": "TARGET_deathRate",
         "type": "\"double\""
        },
        {
         "metadata": "{}",
         "name": "incidenceRate",
         "type": "\"double\""
        },
        {
         "metadata": "{}",
         "name": "medIncome",
         "type": "\"long\""
        },
        {
         "metadata": "{}",
         "name": "popEst2015",
         "type": "\"long\""
        },
        {
         "metadata": "{}",
         "name": "povertyPercent",
         "type": "\"double\""
        },
        {
         "metadata": "{}",
         "name": "studyPerCap",
         "type": "\"double\""
        },
        {
         "metadata": "{}",
         "name": "binnedInc",
         "type": "\"string\""
        },
        {
         "metadata": "{}",
         "name": "MedianAge",
         "type": "\"double\""
        },
        {
         "metadata": "{}",
         "name": "MedianAgeMale",
         "type": "\"double\""
        },
        {
         "metadata": "{}",
         "name": "MedianAgeFemale",
         "type": "\"double\""
        },
        {
         "metadata": "{}",
         "name": "Geography",
         "type": "\"string\""
        },
        {
         "metadata": "{}",
         "name": "AvgHouseholdSize",
         "type": "\"double\""
        },
        {
         "metadata": "{}",
         "name": "PercentMarried",
         "type": "\"double\""
        },
        {
         "metadata": "{}",
         "name": "PctNoHS18_24",
         "type": "\"double\""
        },
        {
         "metadata": "{}",
         "name": "PctHS18_24",
         "type": "\"double\""
        },
        {
         "metadata": "{}",
         "name": "PctSomeCol18_24",
         "type": "\"double\""
        },
        {
         "metadata": "{}",
         "name": "PctBachDeg18_24",
         "type": "\"double\""
        },
        {
         "metadata": "{}",
         "name": "PctHS25_Over",
         "type": "\"double\""
        },
        {
         "metadata": "{}",
         "name": "PctBachDeg25_Over",
         "type": "\"double\""
        },
        {
         "metadata": "{}",
         "name": "PctEmployed16_Over",
         "type": "\"double\""
        },
        {
         "metadata": "{}",
         "name": "PctUnemployed16_Over",
         "type": "\"double\""
        },
        {
         "metadata": "{}",
         "name": "PctPrivateCoverage",
         "type": "\"double\""
        },
        {
         "metadata": "{}",
         "name": "PctPrivateCoverageAlone",
         "type": "\"double\""
        },
        {
         "metadata": "{}",
         "name": "PctEmpPrivCoverage",
         "type": "\"double\""
        },
        {
         "metadata": "{}",
         "name": "PctPublicCoverage",
         "type": "\"double\""
        },
        {
         "metadata": "{}",
         "name": "PctPublicCoverageAlone",
         "type": "\"double\""
        },
        {
         "metadata": "{}",
         "name": "PctWhite",
         "type": "\"double\""
        },
        {
         "metadata": "{}",
         "name": "PctBlack",
         "type": "\"double\""
        },
        {
         "metadata": "{}",
         "name": "PctAsian",
         "type": "\"double\""
        },
        {
         "metadata": "{}",
         "name": "PctOtherRace",
         "type": "\"double\""
        },
        {
         "metadata": "{}",
         "name": "PctMarriedHouseholds",
         "type": "\"double\""
        },
        {
         "metadata": "{}",
         "name": "BirthRate",
         "type": "\"double\""
        }
       ],
       "type": "table"
      }
     },
     "output_type": "display_data"
    }
   ],
   "source": [
    "display(cancer_df.take(10))"
   ]
  },
  {
   "cell_type": "markdown",
   "metadata": {
    "application/vnd.databricks.v1+cell": {
     "cellMetadata": {},
     "inputWidgets": {},
     "nuid": "2807f67e-fa99-47de-b4fa-a82949c7ea03",
     "showTitle": false,
     "tableResultSettingsMap": {},
     "title": ""
    }
   },
   "source": [
    "Supprimer du dataframe les colonnes binnedInc, Geography, PctSomeCol18_24, PctEmployed16_Over et PctPrivateCoverageAlone."
   ]
  },
  {
   "cell_type": "code",
   "execution_count": 0,
   "metadata": {
    "application/vnd.databricks.v1+cell": {
     "cellMetadata": {
      "byteLimit": 2048000,
      "rowLimit": 10000
     },
     "inputWidgets": {},
     "nuid": "62cb3e00-2746-455b-962e-7f192bcd9a82",
     "showTitle": false,
     "tableResultSettingsMap": {},
     "title": ""
    }
   },
   "outputs": [],
   "source": [
    "from pyspark.sql.functions import col\n",
    "\n",
    "cancer_df = cancer_df.drop(\n",
    "  col(\"binnedInc\"),\n",
    "  col(\"Geography\"),\n",
    "  col(\"PctSomeCol18_24\"),\n",
    "  col(\"PctEmployed16_Over\"),\n",
    "  col(\"PctPrivateCoverageAlone\"),\n",
    ")"
   ]
  },
  {
   "cell_type": "code",
   "execution_count": 0,
   "metadata": {
    "application/vnd.databricks.v1+cell": {
     "cellMetadata": {
      "byteLimit": 2048000,
      "rowLimit": 10000
     },
     "inputWidgets": {},
     "nuid": "ae80456f-d3c0-436f-b5c6-0ea2ebd0e844",
     "showTitle": false,
     "tableResultSettingsMap": {},
     "title": ""
    }
   },
   "outputs": [
    {
     "output_type": "display_data",
     "data": {
      "text/html": [
       "<style scoped>\n",
       "  .table-result-container {\n",
       "    max-height: 300px;\n",
       "    overflow: auto;\n",
       "  }\n",
       "  table, th, td {\n",
       "    border: 1px solid black;\n",
       "    border-collapse: collapse;\n",
       "  }\n",
       "  th, td {\n",
       "    padding: 5px;\n",
       "  }\n",
       "  th {\n",
       "    text-align: left;\n",
       "  }\n",
       "</style><div class='table-result-container'><table class='table-result'><thead style='background-color: white'><tr><th>avgAnnCount</th><th>avgDeathsPerYear</th><th>TARGET_deathRate</th><th>incidenceRate</th><th>medIncome</th><th>popEst2015</th><th>povertyPercent</th><th>studyPerCap</th><th>MedianAge</th><th>MedianAgeMale</th><th>MedianAgeFemale</th><th>AvgHouseholdSize</th><th>PercentMarried</th><th>PctNoHS18_24</th><th>PctHS18_24</th><th>PctBachDeg18_24</th><th>PctHS25_Over</th><th>PctBachDeg25_Over</th><th>PctUnemployed16_Over</th><th>PctPrivateCoverage</th><th>PctEmpPrivCoverage</th><th>PctPublicCoverage</th><th>PctPublicCoverageAlone</th><th>PctWhite</th><th>PctBlack</th><th>PctAsian</th><th>PctOtherRace</th><th>PctMarriedHouseholds</th><th>BirthRate</th></tr></thead><tbody><tr><td>1397.0</td><td>469</td><td>164.9</td><td>489.8</td><td>61898</td><td>260131</td><td>11.2</td><td>499.7482038</td><td>39.3</td><td>36.9</td><td>41.7</td><td>2.54</td><td>52.5</td><td>11.5</td><td>39.5</td><td>6.9</td><td>23.2</td><td>19.6</td><td>8.0</td><td>75.1</td><td>41.6</td><td>32.9</td><td>14.0</td><td>81.78052858</td><td>2.594728333</td><td>4.821857102</td><td>1.843478533</td><td>52.85607588</td><td>6.118831029</td></tr><tr><td>173.0</td><td>70</td><td>161.3</td><td>411.6</td><td>48127</td><td>43269</td><td>18.6</td><td>23.11123437</td><td>33.0</td><td>32.2</td><td>33.7</td><td>2.34</td><td>44.5</td><td>6.1</td><td>22.4</td><td>7.5</td><td>26.0</td><td>22.7</td><td>7.8</td><td>70.2</td><td>43.6</td><td>31.1</td><td>15.3</td><td>89.22850915</td><td>0.969102455</td><td>2.246232585</td><td>3.741351531</td><td>45.37250044</td><td>4.333095578</td></tr><tr><td>102.0</td><td>50</td><td>174.7</td><td>349.7</td><td>49348</td><td>21026</td><td>14.6</td><td>47.56016361</td><td>45.0</td><td>44.0</td><td>45.8</td><td>2.62</td><td>54.2</td><td>24.0</td><td>36.6</td><td>9.5</td><td>29.0</td><td>16.0</td><td>7.0</td><td>63.7</td><td>34.9</td><td>42.1</td><td>21.1</td><td>90.9221902</td><td>0.739673391</td><td>0.465898175</td><td>2.747358309</td><td>54.44486837</td><td>3.729487817</td></tr><tr><td>427.0</td><td>202</td><td>194.8</td><td>430.4</td><td>44243</td><td>75882</td><td>17.1</td><td>342.6372526</td><td>42.8</td><td>42.2</td><td>43.4</td><td>2.52</td><td>52.7</td><td>20.2</td><td>41.2</td><td>2.5</td><td>31.6</td><td>9.3</td><td>12.1</td><td>58.4</td><td>35.0</td><td>45.3</td><td>25.0</td><td>91.74468649</td><td>0.782625968</td><td>1.16135867</td><td>1.362643183</td><td>51.02151448</td><td>4.603840773</td></tr><tr><td>57.0</td><td>26</td><td>144.4</td><td>350.1</td><td>49955</td><td>10321</td><td>12.5</td><td>0.0</td><td>48.3</td><td>47.8</td><td>48.9</td><td>2.34</td><td>57.8</td><td>14.9</td><td>43.0</td><td>2.0</td><td>33.4</td><td>15.0</td><td>4.8</td><td>61.6</td><td>35.1</td><td>44.0</td><td>22.7</td><td>94.10402393</td><td>0.270192029</td><td>0.665830358</td><td>0.492135482</td><td>54.02745995</td><td>6.796657382</td></tr><tr><td>428.0</td><td>152</td><td>176.0</td><td>505.4</td><td>52313</td><td>61023</td><td>15.6</td><td>180.259902</td><td>45.4</td><td>43.5</td><td>48.0</td><td>2.58</td><td>50.4</td><td>29.9</td><td>35.1</td><td>4.5</td><td>30.4</td><td>11.9</td><td>12.9</td><td>60.0</td><td>32.6</td><td>43.2</td><td>20.2</td><td>84.88263065</td><td>1.653205244</td><td>1.53805662</td><td>3.31463539</td><td>51.22035959</td><td>4.964476021</td></tr><tr><td>250.0</td><td>97</td><td>175.9</td><td>461.8</td><td>37782</td><td>41516</td><td>23.2</td><td>0.0</td><td>42.6</td><td>42.2</td><td>43.5</td><td>2.42</td><td>54.1</td><td>26.1</td><td>41.4</td><td>5.8</td><td>29.8</td><td>11.9</td><td>8.9</td><td>49.5</td><td>28.3</td><td>46.4</td><td>28.7</td><td>75.10645505</td><td>0.616955386</td><td>0.866156973</td><td>8.356721185</td><td>51.01389975</td><td>4.204317269</td></tr><tr><td>146.0</td><td>71</td><td>183.6</td><td>404.0</td><td>40189</td><td>20848</td><td>17.8</td><td>0.0</td><td>51.7</td><td>50.8</td><td>52.5</td><td>2.24</td><td>52.7</td><td>27.3</td><td>33.9</td><td>2.2</td><td>31.6</td><td>11.3</td><td>8.9</td><td>55.8</td><td>25.9</td><td>50.9</td><td>24.1</td><td>89.40663599</td><td>0.305158634</td><td>1.889077258</td><td>2.286267861</td><td>48.96703297</td><td>5.889178996</td></tr><tr><td>88.0</td><td>36</td><td>190.5</td><td>459.4</td><td>42579</td><td>13088</td><td>22.3</td><td>0.0</td><td>49.3</td><td>48.4</td><td>49.8</td><td>2.38</td><td>55.9</td><td>34.7</td><td>39.4</td><td>1.4</td><td>32.2</td><td>12.0</td><td>10.3</td><td>55.5</td><td>29.9</td><td>48.1</td><td>26.6</td><td>91.78747687</td><td>0.185070944</td><td>0.208204812</td><td>0.616903146</td><td>53.44699778</td><td>5.587583149</td></tr><tr><td>4025.0</td><td>1380</td><td>177.8</td><td>510.9</td><td>60397</td><td>843954</td><td>13.1</td><td>427.7484318</td><td>35.8</td><td>34.7</td><td>37.0</td><td>2.65</td><td>50.0</td><td>15.6</td><td>36.3</td><td>7.1</td><td>28.8</td><td>16.2</td><td>9.2</td><td>69.9</td><td>44.4</td><td>31.4</td><td>16.5</td><td>74.72966791</td><td>6.710854162</td><td>6.041472008</td><td>2.699184381</td><td>50.06357342</td><td>5.533430211</td></tr></tbody></table></div>"
      ]
     },
     "metadata": {
      "application/vnd.databricks.v1+output": {
       "addedWidgets": {},
       "aggData": [],
       "aggError": "",
       "aggOverflow": false,
       "aggSchema": [],
       "aggSeriesLimitReached": false,
       "aggType": "",
       "arguments": {},
       "columnCustomDisplayInfos": {},
       "data": [
        [
         1397.0,
         469,
         164.9,
         489.8,
         61898,
         260131,
         11.2,
         499.7482038,
         39.3,
         36.9,
         41.7,
         2.54,
         52.5,
         11.5,
         39.5,
         6.9,
         23.2,
         19.6,
         8.0,
         75.1,
         41.6,
         32.9,
         14.0,
         81.78052858,
         2.594728333,
         4.821857102,
         1.843478533,
         52.85607588,
         6.118831029
        ],
        [
         173.0,
         70,
         161.3,
         411.6,
         48127,
         43269,
         18.6,
         23.11123437,
         33.0,
         32.2,
         33.7,
         2.34,
         44.5,
         6.1,
         22.4,
         7.5,
         26.0,
         22.7,
         7.8,
         70.2,
         43.6,
         31.1,
         15.3,
         89.22850915,
         0.969102455,
         2.246232585,
         3.741351531,
         45.37250044,
         4.333095578
        ],
        [
         102.0,
         50,
         174.7,
         349.7,
         49348,
         21026,
         14.6,
         47.56016361,
         45.0,
         44.0,
         45.8,
         2.62,
         54.2,
         24.0,
         36.6,
         9.5,
         29.0,
         16.0,
         7.0,
         63.7,
         34.9,
         42.1,
         21.1,
         90.9221902,
         0.739673391,
         0.465898175,
         2.747358309,
         54.44486837,
         3.729487817
        ],
        [
         427.0,
         202,
         194.8,
         430.4,
         44243,
         75882,
         17.1,
         342.6372526,
         42.8,
         42.2,
         43.4,
         2.52,
         52.7,
         20.2,
         41.2,
         2.5,
         31.6,
         9.3,
         12.1,
         58.4,
         35.0,
         45.3,
         25.0,
         91.74468649,
         0.782625968,
         1.16135867,
         1.362643183,
         51.02151448,
         4.603840773
        ],
        [
         57.0,
         26,
         144.4,
         350.1,
         49955,
         10321,
         12.5,
         0.0,
         48.3,
         47.8,
         48.9,
         2.34,
         57.8,
         14.9,
         43.0,
         2.0,
         33.4,
         15.0,
         4.8,
         61.6,
         35.1,
         44.0,
         22.7,
         94.10402393,
         0.270192029,
         0.665830358,
         0.492135482,
         54.02745995,
         6.796657382
        ],
        [
         428.0,
         152,
         176.0,
         505.4,
         52313,
         61023,
         15.6,
         180.259902,
         45.4,
         43.5,
         48.0,
         2.58,
         50.4,
         29.9,
         35.1,
         4.5,
         30.4,
         11.9,
         12.9,
         60.0,
         32.6,
         43.2,
         20.2,
         84.88263065,
         1.653205244,
         1.53805662,
         3.31463539,
         51.22035959,
         4.964476021
        ],
        [
         250.0,
         97,
         175.9,
         461.8,
         37782,
         41516,
         23.2,
         0.0,
         42.6,
         42.2,
         43.5,
         2.42,
         54.1,
         26.1,
         41.4,
         5.8,
         29.8,
         11.9,
         8.9,
         49.5,
         28.3,
         46.4,
         28.7,
         75.10645505,
         0.616955386,
         0.866156973,
         8.356721185,
         51.01389975,
         4.204317269
        ],
        [
         146.0,
         71,
         183.6,
         404.0,
         40189,
         20848,
         17.8,
         0.0,
         51.7,
         50.8,
         52.5,
         2.24,
         52.7,
         27.3,
         33.9,
         2.2,
         31.6,
         11.3,
         8.9,
         55.8,
         25.9,
         50.9,
         24.1,
         89.40663599,
         0.305158634,
         1.889077258,
         2.286267861,
         48.96703297,
         5.889178996
        ],
        [
         88.0,
         36,
         190.5,
         459.4,
         42579,
         13088,
         22.3,
         0.0,
         49.3,
         48.4,
         49.8,
         2.38,
         55.9,
         34.7,
         39.4,
         1.4,
         32.2,
         12.0,
         10.3,
         55.5,
         29.9,
         48.1,
         26.6,
         91.78747687,
         0.185070944,
         0.208204812,
         0.616903146,
         53.44699778,
         5.587583149
        ],
        [
         4025.0,
         1380,
         177.8,
         510.9,
         60397,
         843954,
         13.1,
         427.7484318,
         35.8,
         34.7,
         37.0,
         2.65,
         50.0,
         15.6,
         36.3,
         7.1,
         28.8,
         16.2,
         9.2,
         69.9,
         44.4,
         31.4,
         16.5,
         74.72966791,
         6.710854162,
         6.041472008,
         2.699184381,
         50.06357342,
         5.533430211
        ]
       ],
       "datasetInfos": [],
       "dbfsResultPath": null,
       "isJsonSchema": true,
       "metadata": {},
       "overflow": false,
       "plotOptions": {
        "customPlotOptions": {},
        "displayType": "table",
        "pivotAggregation": null,
        "pivotColumns": null,
        "xColumns": null,
        "yColumns": null
       },
       "removedWidgets": [],
       "schema": [
        {
         "metadata": "{}",
         "name": "avgAnnCount",
         "type": "\"double\""
        },
        {
         "metadata": "{}",
         "name": "avgDeathsPerYear",
         "type": "\"long\""
        },
        {
         "metadata": "{}",
         "name": "TARGET_deathRate",
         "type": "\"double\""
        },
        {
         "metadata": "{}",
         "name": "incidenceRate",
         "type": "\"double\""
        },
        {
         "metadata": "{}",
         "name": "medIncome",
         "type": "\"long\""
        },
        {
         "metadata": "{}",
         "name": "popEst2015",
         "type": "\"long\""
        },
        {
         "metadata": "{}",
         "name": "povertyPercent",
         "type": "\"double\""
        },
        {
         "metadata": "{}",
         "name": "studyPerCap",
         "type": "\"double\""
        },
        {
         "metadata": "{}",
         "name": "MedianAge",
         "type": "\"double\""
        },
        {
         "metadata": "{}",
         "name": "MedianAgeMale",
         "type": "\"double\""
        },
        {
         "metadata": "{}",
         "name": "MedianAgeFemale",
         "type": "\"double\""
        },
        {
         "metadata": "{}",
         "name": "AvgHouseholdSize",
         "type": "\"double\""
        },
        {
         "metadata": "{}",
         "name": "PercentMarried",
         "type": "\"double\""
        },
        {
         "metadata": "{}",
         "name": "PctNoHS18_24",
         "type": "\"double\""
        },
        {
         "metadata": "{}",
         "name": "PctHS18_24",
         "type": "\"double\""
        },
        {
         "metadata": "{}",
         "name": "PctBachDeg18_24",
         "type": "\"double\""
        },
        {
         "metadata": "{}",
         "name": "PctHS25_Over",
         "type": "\"double\""
        },
        {
         "metadata": "{}",
         "name": "PctBachDeg25_Over",
         "type": "\"double\""
        },
        {
         "metadata": "{}",
         "name": "PctUnemployed16_Over",
         "type": "\"double\""
        },
        {
         "metadata": "{}",
         "name": "PctPrivateCoverage",
         "type": "\"double\""
        },
        {
         "metadata": "{}",
         "name": "PctEmpPrivCoverage",
         "type": "\"double\""
        },
        {
         "metadata": "{}",
         "name": "PctPublicCoverage",
         "type": "\"double\""
        },
        {
         "metadata": "{}",
         "name": "PctPublicCoverageAlone",
         "type": "\"double\""
        },
        {
         "metadata": "{}",
         "name": "PctWhite",
         "type": "\"double\""
        },
        {
         "metadata": "{}",
         "name": "PctBlack",
         "type": "\"double\""
        },
        {
         "metadata": "{}",
         "name": "PctAsian",
         "type": "\"double\""
        },
        {
         "metadata": "{}",
         "name": "PctOtherRace",
         "type": "\"double\""
        },
        {
         "metadata": "{}",
         "name": "PctMarriedHouseholds",
         "type": "\"double\""
        },
        {
         "metadata": "{}",
         "name": "BirthRate",
         "type": "\"double\""
        }
       ],
       "type": "table"
      }
     },
     "output_type": "display_data"
    }
   ],
   "source": [
    "display(cancer_df.take(10))"
   ]
  },
  {
   "cell_type": "markdown",
   "metadata": {
    "application/vnd.databricks.v1+cell": {
     "cellMetadata": {},
     "inputWidgets": {},
     "nuid": "14df318d-5a13-4d9b-9236-74b6b01a3371",
     "showTitle": false,
     "tableResultSettingsMap": {},
     "title": ""
    }
   },
   "source": [
    "Repérer la colonne cible (target) et stocker dans des variables la liste des noms des colonnes des variables explicatives d'une part et le nom de la colonne cible d'autre part. "
   ]
  },
  {
   "cell_type": "code",
   "execution_count": 0,
   "metadata": {
    "application/vnd.databricks.v1+cell": {
     "cellMetadata": {
      "byteLimit": 2048000,
      "rowLimit": 10000
     },
     "inputWidgets": {},
     "nuid": "1f15a5a8-9956-4154-a458-079a541b3aa5",
     "showTitle": false,
     "tableResultSettingsMap": {},
     "title": ""
    }
   },
   "outputs": [],
   "source": [
    "feature_cols = cancer_df.columns\n",
    "target_col = \"TARGET_deathRate\"\n",
    "feature_cols.remove(target_col)"
   ]
  },
  {
   "cell_type": "markdown",
   "metadata": {
    "application/vnd.databricks.v1+cell": {
     "cellMetadata": {},
     "inputWidgets": {},
     "nuid": "655d8f09-27c4-4790-946f-53e69dd1e8db",
     "showTitle": false,
     "tableResultSettingsMap": {},
     "title": ""
    }
   },
   "source": [
    "Séparer les données en un jeu d'entrainement et un jeu de test à l'aide de la méthode randomSplit. Choisir une répartition 80%-20%."
   ]
  },
  {
   "cell_type": "code",
   "execution_count": 0,
   "metadata": {
    "application/vnd.databricks.v1+cell": {
     "cellMetadata": {
      "byteLimit": 2048000,
      "rowLimit": 10000
     },
     "inputWidgets": {},
     "nuid": "23f0cb8b-5ac9-474e-9867-7a89da373563",
     "showTitle": false,
     "tableResultSettingsMap": {},
     "title": ""
    }
   },
   "outputs": [],
   "source": [
    "train_data, test_data = cancer_df.randomSplit([0.8, 0.2], seed=1)"
   ]
  },
  {
   "cell_type": "code",
   "execution_count": 0,
   "metadata": {
    "application/vnd.databricks.v1+cell": {
     "cellMetadata": {
      "byteLimit": 2048000,
      "rowLimit": 10000
     },
     "inputWidgets": {},
     "nuid": "24a43d36-9656-479c-94a9-2742e35ea576",
     "showTitle": false,
     "tableResultSettingsMap": {},
     "title": ""
    }
   },
   "outputs": [
    {
     "output_type": "stream",
     "name": "stdout",
     "output_type": "stream",
     "text": [
      "Out[19]: 2443"
     ]
    }
   ],
   "source": [
    "train_data.count()"
   ]
  },
  {
   "cell_type": "code",
   "execution_count": 0,
   "metadata": {
    "application/vnd.databricks.v1+cell": {
     "cellMetadata": {
      "byteLimit": 2048000,
      "rowLimit": 10000
     },
     "inputWidgets": {},
     "nuid": "8957cf50-cb7f-4c15-b40d-bb7e2c5c4bb9",
     "showTitle": false,
     "tableResultSettingsMap": {},
     "title": ""
    }
   },
   "outputs": [
    {
     "output_type": "stream",
     "name": "stdout",
     "output_type": "stream",
     "text": [
      "Out[20]: 604"
     ]
    }
   ],
   "source": [
    "test_data.count()"
   ]
  },
  {
   "cell_type": "code",
   "execution_count": 0,
   "metadata": {
    "application/vnd.databricks.v1+cell": {
     "cellMetadata": {
      "byteLimit": 2048000,
      "rowLimit": 10000
     },
     "inputWidgets": {},
     "nuid": "74053488-4d48-4bf9-997b-89d461613cbe",
     "showTitle": false,
     "tableResultSettingsMap": {},
     "title": ""
    }
   },
   "outputs": [
    {
     "output_type": "stream",
     "name": "stdout",
     "output_type": "stream",
     "text": [
      "Out[21]: 3047"
     ]
    }
   ],
   "source": [
    "cancer_df.count()"
   ]
  },
  {
   "cell_type": "code",
   "execution_count": 0,
   "metadata": {
    "application/vnd.databricks.v1+cell": {
     "cellMetadata": {
      "byteLimit": 2048000,
      "rowLimit": 10000
     },
     "inputWidgets": {},
     "nuid": "7c22b4da-4c64-45fb-9438-e88e77f03106",
     "showTitle": false,
     "tableResultSettingsMap": {},
     "title": ""
    }
   },
   "outputs": [],
   "source": [
    "from pyspark.ml.feature import VectorAssembler\n",
    "from pyspark.ml.regression import LinearRegression\n",
    "from pyspark.ml import Pipeline\n",
    "from pyspark.ml.evaluation import RegressionEvaluator"
   ]
  },
  {
   "cell_type": "markdown",
   "metadata": {
    "application/vnd.databricks.v1+cell": {
     "cellMetadata": {},
     "inputWidgets": {},
     "nuid": "d15a9d1e-55bd-4e1c-a509-17f32831376f",
     "showTitle": false,
     "tableResultSettingsMap": {},
     "title": ""
    }
   },
   "source": [
    "Assembler les features dans un vecteur colonne unique à l'aide de VectorAssembler."
   ]
  },
  {
   "cell_type": "code",
   "execution_count": 0,
   "metadata": {
    "application/vnd.databricks.v1+cell": {
     "cellMetadata": {
      "byteLimit": 2048000,
      "rowLimit": 10000
     },
     "inputWidgets": {},
     "nuid": "1e98414c-731b-4d47-b7ff-d2ef90e5f773",
     "showTitle": false,
     "tableResultSettingsMap": {},
     "title": ""
    }
   },
   "outputs": [],
   "source": [
    "assembler = VectorAssembler(inputCols=feature_cols, outputCol=\"features\")"
   ]
  },
  {
   "cell_type": "markdown",
   "metadata": {
    "application/vnd.databricks.v1+cell": {
     "cellMetadata": {},
     "inputWidgets": {},
     "nuid": "ec5e2933-94e6-458f-a967-d814186af496",
     "showTitle": false,
     "tableResultSettingsMap": {},
     "title": ""
    }
   },
   "source": [
    "Instancier un modèle de régression linéaire en spécifiant les colonnes des variables explicatives et la colonne labellisée."
   ]
  },
  {
   "cell_type": "code",
   "execution_count": 0,
   "metadata": {
    "application/vnd.databricks.v1+cell": {
     "cellMetadata": {
      "byteLimit": 2048000,
      "rowLimit": 10000
     },
     "inputWidgets": {},
     "nuid": "36258fc5-31ca-4488-b9a8-3613c366663f",
     "showTitle": false,
     "tableResultSettingsMap": {},
     "title": ""
    }
   },
   "outputs": [],
   "source": [
    "lr = LinearRegression(featuresCol=\"features\", labelCol=target_col)"
   ]
  },
  {
   "cell_type": "markdown",
   "metadata": {
    "application/vnd.databricks.v1+cell": {
     "cellMetadata": {},
     "inputWidgets": {},
     "nuid": "583245c1-c256-460e-a48e-4be36a8cd37e",
     "showTitle": false,
     "tableResultSettingsMap": {},
     "title": ""
    }
   },
   "source": [
    "Créer une pipeline contenant les 2 étapes de l'assembleur et du modèle de régression linéaire."
   ]
  },
  {
   "cell_type": "code",
   "execution_count": 0,
   "metadata": {
    "application/vnd.databricks.v1+cell": {
     "cellMetadata": {
      "byteLimit": 2048000,
      "rowLimit": 10000
     },
     "inputWidgets": {},
     "nuid": "97465f46-47be-44e6-ae0c-eec2f6a0782d",
     "showTitle": false,
     "tableResultSettingsMap": {},
     "title": ""
    }
   },
   "outputs": [],
   "source": [
    "pipeline = Pipeline(stages=[assembler, lr])"
   ]
  },
  {
   "cell_type": "markdown",
   "metadata": {
    "application/vnd.databricks.v1+cell": {
     "cellMetadata": {},
     "inputWidgets": {},
     "nuid": "318fc35b-9a59-4c09-84e4-232cdf20840e",
     "showTitle": false,
     "tableResultSettingsMap": {},
     "title": ""
    }
   },
   "source": [
    "Entraîner la pipeline sur le jeu d'entraînement."
   ]
  },
  {
   "cell_type": "code",
   "execution_count": 0,
   "metadata": {
    "application/vnd.databricks.v1+cell": {
     "cellMetadata": {
      "byteLimit": 2048000,
      "rowLimit": 10000
     },
     "inputWidgets": {},
     "nuid": "1630a5f4-f428-4754-98b7-0c90421753be",
     "showTitle": false,
     "tableResultSettingsMap": {},
     "title": ""
    }
   },
   "outputs": [],
   "source": [
    "res = pipeline.fit(train_data)"
   ]
  },
  {
   "cell_type": "markdown",
   "metadata": {
    "application/vnd.databricks.v1+cell": {
     "cellMetadata": {},
     "inputWidgets": {},
     "nuid": "3a3d1c7c-1800-46d5-89e4-14acd988fa62",
     "showTitle": false,
     "tableResultSettingsMap": {},
     "title": ""
    }
   },
   "source": [
    "Réaliser les prédictions sur le jeu de test. Afficher les 10 premières lignes avec leurs prédictions."
   ]
  },
  {
   "cell_type": "code",
   "execution_count": 0,
   "metadata": {
    "application/vnd.databricks.v1+cell": {
     "cellMetadata": {
      "byteLimit": 2048000,
      "rowLimit": 10000
     },
     "inputWidgets": {},
     "nuid": "1901c336-53c7-4e28-a2ea-36fbf18de306",
     "showTitle": false,
     "tableResultSettingsMap": {},
     "title": ""
    }
   },
   "outputs": [],
   "source": [
    "output_with_predictions = res.transform(test_data)"
   ]
  },
  {
   "cell_type": "code",
   "execution_count": 0,
   "metadata": {
    "application/vnd.databricks.v1+cell": {
     "cellMetadata": {
      "byteLimit": 2048000,
      "rowLimit": 10000
     },
     "inputWidgets": {},
     "nuid": "c31f6472-afb6-4774-bfbe-570f2ffcfeaf",
     "showTitle": false,
     "tableResultSettingsMap": {},
     "title": ""
    }
   },
   "outputs": [
    {
     "output_type": "display_data",
     "data": {
      "text/html": [
       "<style scoped>\n",
       "  .table-result-container {\n",
       "    max-height: 300px;\n",
       "    overflow: auto;\n",
       "  }\n",
       "  table, th, td {\n",
       "    border: 1px solid black;\n",
       "    border-collapse: collapse;\n",
       "  }\n",
       "  th, td {\n",
       "    padding: 5px;\n",
       "  }\n",
       "  th {\n",
       "    text-align: left;\n",
       "  }\n",
       "</style><div class='table-result-container'><table class='table-result'><thead style='background-color: white'><tr><th>avgAnnCount</th><th>avgDeathsPerYear</th><th>TARGET_deathRate</th><th>incidenceRate</th><th>medIncome</th><th>popEst2015</th><th>povertyPercent</th><th>studyPerCap</th><th>MedianAge</th><th>MedianAgeMale</th><th>MedianAgeFemale</th><th>AvgHouseholdSize</th><th>PercentMarried</th><th>PctNoHS18_24</th><th>PctHS18_24</th><th>PctBachDeg18_24</th><th>PctHS25_Over</th><th>PctBachDeg25_Over</th><th>PctUnemployed16_Over</th><th>PctPrivateCoverage</th><th>PctEmpPrivCoverage</th><th>PctPublicCoverage</th><th>PctPublicCoverageAlone</th><th>PctWhite</th><th>PctBlack</th><th>PctAsian</th><th>PctOtherRace</th><th>PctMarriedHouseholds</th><th>BirthRate</th><th>features</th><th>prediction</th></tr></thead><tbody><tr><td>8.0</td><td>3</td><td>203.3</td><td>201.3</td><td>68387</td><td>5702</td><td>9.9</td><td>0.0</td><td>36.8</td><td>38.8</td><td>32.9</td><td>3.59</td><td>40.6</td><td>11.3</td><td>52.1</td><td>7.0</td><td>37.0</td><td>10.3</td><td>2.1</td><td>69.1</td><td>58.3</td><td>11.2</td><td>6.2</td><td>31.56228008</td><td>4.732582688</td><td>37.15693174</td><td>5.295566502</td><td>42.88224956</td><td>4.391052196</td><td>Map(vectorType -> dense, length -> 28, values -> List(8.0, 3.0, 201.3, 68387.0, 5702.0, 9.9, 0.0, 36.8, 38.8, 32.9, 3.59, 40.6, 11.3, 52.1, 7.0, 37.0, 10.3, 2.1, 69.1, 58.3, 11.2, 6.2, 31.56228008, 4.732582688, 37.15693174, 5.295566502, 42.88224956, 4.391052196))</td><td>131.08762511435293</td></tr><tr><td>9.0</td><td>4</td><td>166.4</td><td>347.2</td><td>56772</td><td>2311</td><td>10.3</td><td>3894.418001</td><td>34.7</td><td>35.5</td><td>33.0</td><td>3.57</td><td>62.4</td><td>34.8</td><td>18.2</td><td>2.3</td><td>37.6</td><td>15.2</td><td>6.2</td><td>66.6</td><td>44.3</td><td>36.2</td><td>17.4</td><td>96.94589878</td><td>0.087260035</td><td>0.0</td><td>2.748691099</td><td>70.78125</td><td>7.99086758</td><td>Map(vectorType -> dense, length -> 28, values -> List(9.0, 4.0, 347.2, 56772.0, 2311.0, 10.3, 3894.418001, 34.7, 35.5, 33.0, 3.57, 62.4, 34.8, 18.2, 2.3, 37.6, 15.2, 6.2, 66.6, 44.3, 36.2, 17.4, 96.94589878, 0.087260035, 0.0, 2.748691099, 70.78125, 7.99086758))</td><td>137.09326773084678</td></tr><tr><td>9.0</td><td>5</td><td>172.6</td><td>355.4</td><td>42780</td><td>1410</td><td>15.5</td><td>0.0</td><td>49.0</td><td>45.3</td><td>52.4</td><td>2.35</td><td>62.0</td><td>9.1</td><td>36.4</td><td>0.0</td><td>37.5</td><td>11.4</td><td>6.9</td><td>56.1</td><td>27.7</td><td>46.7</td><td>23.0</td><td>89.03818953</td><td>4.101838755</td><td>0.0</td><td>2.899575672</td><td>56.89655172</td><td>11.51832461</td><td>Map(vectorType -> dense, length -> 28, values -> List(9.0, 5.0, 355.4, 42780.0, 1410.0, 15.5, 0.0, 49.0, 45.3, 52.4, 2.35, 62.0, 9.1, 36.4, 0.0, 37.5, 11.4, 6.9, 56.1, 27.7, 46.7, 23.0, 89.03818953, 4.101838755, 0.0, 2.899575672, 56.89655172, 11.51832461))</td><td>160.4477894756393</td></tr><tr><td>9.0</td><td>5</td><td>192.3</td><td>342.6</td><td>32722</td><td>1426</td><td>20.9</td><td>0.0</td><td>50.1</td><td>40.8</td><td>54.4</td><td>2.38</td><td>64.5</td><td>15.0</td><td>20.0</td><td>0.0</td><td>30.9</td><td>11.6</td><td>7.5</td><td>44.9</td><td>21.4</td><td>47.7</td><td>26.4</td><td>83.24503311</td><td>10.46357616</td><td>0.0</td><td>3.509933775</td><td>56.22047244</td><td>8.620689655</td><td>Map(vectorType -> dense, length -> 28, values -> List(9.0, 5.0, 342.6, 32722.0, 1426.0, 20.9, 0.0, 50.1, 40.8, 54.4, 2.38, 64.5, 15.0, 20.0, 0.0, 30.9, 11.6, 7.5, 44.9, 21.4, 47.7, 26.4, 83.24503311, 10.46357616, 0.0, 3.509933775, 56.22047244, 8.620689655))</td><td>165.42643223550738</td></tr><tr><td>10.0</td><td>4</td><td>117.6</td><td>341.9</td><td>59408</td><td>1956</td><td>7.1</td><td>0.0</td><td>50.2</td><td>51.5</td><td>48.8</td><td>2.09</td><td>62.2</td><td>12.3</td><td>40.0</td><td>3.8</td><td>30.9</td><td>16.3</td><td>4.0</td><td>84.8</td><td>38.8</td><td>29.8</td><td>7.9</td><td>99.646286</td><td>0.0</td><td>0.0</td><td>0.353713997</td><td>54.11392405</td><td>7.098765432</td><td>Map(vectorType -> dense, length -> 28, values -> List(10.0, 4.0, 341.9, 59408.0, 1956.0, 7.1, 0.0, 50.2, 51.5, 48.8, 2.09, 62.2, 12.3, 40.0, 3.8, 30.9, 16.3, 4.0, 84.8, 38.8, 29.8, 7.9, 99.646286, 0.0, 0.0, 0.353713997, 54.11392405, 7.098765432))</td><td>136.73442553511285</td></tr><tr><td>11.0</td><td>4</td><td>187.3</td><td>502.1</td><td>46051</td><td>1381</td><td>15.0</td><td>0.0</td><td>52.0</td><td>49.8</td><td>53.4</td><td>1.94</td><td>59.4</td><td>6.0</td><td>23.3</td><td>0.9</td><td>41.7</td><td>14.1</td><td>1.7</td><td>70.1</td><td>25.6</td><td>31.4</td><td>11.4</td><td>95.64596717</td><td>0.713775874</td><td>0.214132762</td><td>0.713775874</td><td>52.60869565</td><td>3.361344538</td><td>Map(vectorType -> dense, length -> 28, values -> List(11.0, 4.0, 502.1, 46051.0, 1381.0, 15.0, 0.0, 52.0, 49.8, 53.4, 1.94, 59.4, 6.0, 23.3, 0.9, 41.7, 14.1, 1.7, 70.1, 25.6, 31.4, 11.4, 95.64596717, 0.713775874, 0.214132762, 0.713775874, 52.60869565, 3.361344538))</td><td>180.597028490615</td></tr><tr><td>12.0</td><td>4</td><td>106.1</td><td>318.9</td><td>60810</td><td>3569</td><td>10.6</td><td>280.1905296</td><td>34.4</td><td>31.0</td><td>39.0</td><td>2.87</td><td>56.4</td><td>21.7</td><td>34.6</td><td>1.2</td><td>37.2</td><td>14.2</td><td>5.0</td><td>67.6</td><td>45.9</td><td>22.6</td><td>10.3</td><td>86.27619868</td><td>0.373241459</td><td>0.775193798</td><td>8.297444732</td><td>58.43071786</td><td>10.1488498</td><td>Map(vectorType -> dense, length -> 28, values -> List(12.0, 4.0, 318.9, 60810.0, 3569.0, 10.6, 280.1905296, 34.4, 31.0, 39.0, 2.87, 56.4, 21.7, 34.6, 1.2, 37.2, 14.2, 5.0, 67.6, 45.9, 22.6, 10.3, 86.27619868, 0.373241459, 0.775193798, 8.297444732, 58.43071786, 10.1488498))</td><td>142.24768477614774</td></tr><tr><td>12.0</td><td>4</td><td>129.3</td><td>366.9</td><td>42366</td><td>2692</td><td>14.1</td><td>0.0</td><td>40.3</td><td>40.2</td><td>40.3</td><td>2.74</td><td>67.3</td><td>24.4</td><td>8.0</td><td>0.0</td><td>25.3</td><td>17.1</td><td>2.1</td><td>68.2</td><td>39.2</td><td>24.7</td><td>9.7</td><td>96.36296841</td><td>0.661278472</td><td>0.698016165</td><td>0.918442322</td><td>66.35802469</td><td>11.13360324</td><td>Map(vectorType -> dense, length -> 28, values -> List(12.0, 4.0, 366.9, 42366.0, 2692.0, 14.1, 0.0, 40.3, 40.2, 40.3, 2.74, 67.3, 24.4, 8.0, 0.0, 25.3, 17.1, 2.1, 68.2, 39.2, 24.7, 9.7, 96.36296841, 0.661278472, 0.698016165, 0.918442322, 66.35802469, 11.13360324))</td><td>134.1374603363901</td></tr><tr><td>13.0</td><td>4</td><td>104.8</td><td>336.1</td><td>46923</td><td>2417</td><td>14.1</td><td>0.0</td><td>47.0</td><td>46.3</td><td>47.6</td><td>2.24</td><td>72.3</td><td>21.9</td><td>49.1</td><td>3.0</td><td>32.6</td><td>16.1</td><td>0.9</td><td>76.1</td><td>38.1</td><td>33.6</td><td>14.2</td><td>96.83127572</td><td>0.0</td><td>0.0</td><td>1.687242798</td><td>65.12915129</td><td>6.976744186</td><td>Map(vectorType -> dense, length -> 28, values -> List(13.0, 4.0, 336.1, 46923.0, 2417.0, 14.1, 0.0, 47.0, 46.3, 47.6, 2.24, 72.3, 21.9, 49.1, 3.0, 32.6, 16.1, 0.9, 76.1, 38.1, 33.6, 14.2, 96.83127572, 0.0, 0.0, 1.687242798, 65.12915129, 6.976744186))</td><td>146.74285578814386</td></tr><tr><td>13.0</td><td>4</td><td>126.3</td><td>413.3</td><td>67260</td><td>2534</td><td>9.8</td><td>0.0</td><td>45.5</td><td>45.6</td><td>45.3</td><td>2.12</td><td>55.3</td><td>0.5</td><td>72.5</td><td>1.4</td><td>27.7</td><td>24.0</td><td>3.0</td><td>60.4</td><td>39.4</td><td>24.4</td><td>9.3</td><td>80.546875</td><td>0.0390625</td><td>3.0078125</td><td>0.5078125</td><td>47.78911565</td><td>5.37428023</td><td>Map(vectorType -> dense, length -> 28, values -> List(13.0, 4.0, 413.3, 67260.0, 2534.0, 9.8, 0.0, 45.5, 45.6, 45.3, 2.12, 55.3, 0.5, 72.5, 1.4, 27.7, 24.0, 3.0, 60.4, 39.4, 24.4, 9.3, 80.546875, 0.0390625, 3.0078125, 0.5078125, 47.78911565, 5.37428023))</td><td>171.32874481703624</td></tr></tbody></table></div>"
      ]
     },
     "metadata": {
      "application/vnd.databricks.v1+output": {
       "addedWidgets": {},
       "aggData": [],
       "aggError": "",
       "aggOverflow": false,
       "aggSchema": [],
       "aggSeriesLimitReached": false,
       "aggType": "",
       "arguments": {},
       "columnCustomDisplayInfos": {},
       "data": [
        [
         8.0,
         3,
         203.3,
         201.3,
         68387,
         5702,
         9.9,
         0.0,
         36.8,
         38.8,
         32.9,
         3.59,
         40.6,
         11.3,
         52.1,
         7.0,
         37.0,
         10.3,
         2.1,
         69.1,
         58.3,
         11.2,
         6.2,
         31.56228008,
         4.732582688,
         37.15693174,
         5.295566502,
         42.88224956,
         4.391052196,
         {
          "length": 28,
          "values": [
           8.0,
           3.0,
           201.3,
           68387.0,
           5702.0,
           9.9,
           0.0,
           36.8,
           38.8,
           32.9,
           3.59,
           40.6,
           11.3,
           52.1,
           7.0,
           37.0,
           10.3,
           2.1,
           69.1,
           58.3,
           11.2,
           6.2,
           31.56228008,
           4.732582688,
           37.15693174,
           5.295566502,
           42.88224956,
           4.391052196
          ],
          "vectorType": "dense"
         },
         131.08762511435293
        ],
        [
         9.0,
         4,
         166.4,
         347.2,
         56772,
         2311,
         10.3,
         3894.418001,
         34.7,
         35.5,
         33.0,
         3.57,
         62.4,
         34.8,
         18.2,
         2.3,
         37.6,
         15.2,
         6.2,
         66.6,
         44.3,
         36.2,
         17.4,
         96.94589878,
         0.087260035,
         0.0,
         2.748691099,
         70.78125,
         7.99086758,
         {
          "length": 28,
          "values": [
           9.0,
           4.0,
           347.2,
           56772.0,
           2311.0,
           10.3,
           3894.418001,
           34.7,
           35.5,
           33.0,
           3.57,
           62.4,
           34.8,
           18.2,
           2.3,
           37.6,
           15.2,
           6.2,
           66.6,
           44.3,
           36.2,
           17.4,
           96.94589878,
           0.087260035,
           0.0,
           2.748691099,
           70.78125,
           7.99086758
          ],
          "vectorType": "dense"
         },
         137.09326773084678
        ],
        [
         9.0,
         5,
         172.6,
         355.4,
         42780,
         1410,
         15.5,
         0.0,
         49.0,
         45.3,
         52.4,
         2.35,
         62.0,
         9.1,
         36.4,
         0.0,
         37.5,
         11.4,
         6.9,
         56.1,
         27.7,
         46.7,
         23.0,
         89.03818953,
         4.101838755,
         0.0,
         2.899575672,
         56.89655172,
         11.51832461,
         {
          "length": 28,
          "values": [
           9.0,
           5.0,
           355.4,
           42780.0,
           1410.0,
           15.5,
           0.0,
           49.0,
           45.3,
           52.4,
           2.35,
           62.0,
           9.1,
           36.4,
           0.0,
           37.5,
           11.4,
           6.9,
           56.1,
           27.7,
           46.7,
           23.0,
           89.03818953,
           4.101838755,
           0.0,
           2.899575672,
           56.89655172,
           11.51832461
          ],
          "vectorType": "dense"
         },
         160.4477894756393
        ],
        [
         9.0,
         5,
         192.3,
         342.6,
         32722,
         1426,
         20.9,
         0.0,
         50.1,
         40.8,
         54.4,
         2.38,
         64.5,
         15.0,
         20.0,
         0.0,
         30.9,
         11.6,
         7.5,
         44.9,
         21.4,
         47.7,
         26.4,
         83.24503311,
         10.46357616,
         0.0,
         3.509933775,
         56.22047244,
         8.620689655,
         {
          "length": 28,
          "values": [
           9.0,
           5.0,
           342.6,
           32722.0,
           1426.0,
           20.9,
           0.0,
           50.1,
           40.8,
           54.4,
           2.38,
           64.5,
           15.0,
           20.0,
           0.0,
           30.9,
           11.6,
           7.5,
           44.9,
           21.4,
           47.7,
           26.4,
           83.24503311,
           10.46357616,
           0.0,
           3.509933775,
           56.22047244,
           8.620689655
          ],
          "vectorType": "dense"
         },
         165.42643223550738
        ],
        [
         10.0,
         4,
         117.6,
         341.9,
         59408,
         1956,
         7.1,
         0.0,
         50.2,
         51.5,
         48.8,
         2.09,
         62.2,
         12.3,
         40.0,
         3.8,
         30.9,
         16.3,
         4.0,
         84.8,
         38.8,
         29.8,
         7.9,
         99.646286,
         0.0,
         0.0,
         0.353713997,
         54.11392405,
         7.098765432,
         {
          "length": 28,
          "values": [
           10.0,
           4.0,
           341.9,
           59408.0,
           1956.0,
           7.1,
           0.0,
           50.2,
           51.5,
           48.8,
           2.09,
           62.2,
           12.3,
           40.0,
           3.8,
           30.9,
           16.3,
           4.0,
           84.8,
           38.8,
           29.8,
           7.9,
           99.646286,
           0.0,
           0.0,
           0.353713997,
           54.11392405,
           7.098765432
          ],
          "vectorType": "dense"
         },
         136.73442553511285
        ],
        [
         11.0,
         4,
         187.3,
         502.1,
         46051,
         1381,
         15.0,
         0.0,
         52.0,
         49.8,
         53.4,
         1.94,
         59.4,
         6.0,
         23.3,
         0.9,
         41.7,
         14.1,
         1.7,
         70.1,
         25.6,
         31.4,
         11.4,
         95.64596717,
         0.713775874,
         0.214132762,
         0.713775874,
         52.60869565,
         3.361344538,
         {
          "length": 28,
          "values": [
           11.0,
           4.0,
           502.1,
           46051.0,
           1381.0,
           15.0,
           0.0,
           52.0,
           49.8,
           53.4,
           1.94,
           59.4,
           6.0,
           23.3,
           0.9,
           41.7,
           14.1,
           1.7,
           70.1,
           25.6,
           31.4,
           11.4,
           95.64596717,
           0.713775874,
           0.214132762,
           0.713775874,
           52.60869565,
           3.361344538
          ],
          "vectorType": "dense"
         },
         180.597028490615
        ],
        [
         12.0,
         4,
         106.1,
         318.9,
         60810,
         3569,
         10.6,
         280.1905296,
         34.4,
         31.0,
         39.0,
         2.87,
         56.4,
         21.7,
         34.6,
         1.2,
         37.2,
         14.2,
         5.0,
         67.6,
         45.9,
         22.6,
         10.3,
         86.27619868,
         0.373241459,
         0.775193798,
         8.297444732,
         58.43071786,
         10.1488498,
         {
          "length": 28,
          "values": [
           12.0,
           4.0,
           318.9,
           60810.0,
           3569.0,
           10.6,
           280.1905296,
           34.4,
           31.0,
           39.0,
           2.87,
           56.4,
           21.7,
           34.6,
           1.2,
           37.2,
           14.2,
           5.0,
           67.6,
           45.9,
           22.6,
           10.3,
           86.27619868,
           0.373241459,
           0.775193798,
           8.297444732,
           58.43071786,
           10.1488498
          ],
          "vectorType": "dense"
         },
         142.24768477614774
        ],
        [
         12.0,
         4,
         129.3,
         366.9,
         42366,
         2692,
         14.1,
         0.0,
         40.3,
         40.2,
         40.3,
         2.74,
         67.3,
         24.4,
         8.0,
         0.0,
         25.3,
         17.1,
         2.1,
         68.2,
         39.2,
         24.7,
         9.7,
         96.36296841,
         0.661278472,
         0.698016165,
         0.918442322,
         66.35802469,
         11.13360324,
         {
          "length": 28,
          "values": [
           12.0,
           4.0,
           366.9,
           42366.0,
           2692.0,
           14.1,
           0.0,
           40.3,
           40.2,
           40.3,
           2.74,
           67.3,
           24.4,
           8.0,
           0.0,
           25.3,
           17.1,
           2.1,
           68.2,
           39.2,
           24.7,
           9.7,
           96.36296841,
           0.661278472,
           0.698016165,
           0.918442322,
           66.35802469,
           11.13360324
          ],
          "vectorType": "dense"
         },
         134.1374603363901
        ],
        [
         13.0,
         4,
         104.8,
         336.1,
         46923,
         2417,
         14.1,
         0.0,
         47.0,
         46.3,
         47.6,
         2.24,
         72.3,
         21.9,
         49.1,
         3.0,
         32.6,
         16.1,
         0.9,
         76.1,
         38.1,
         33.6,
         14.2,
         96.83127572,
         0.0,
         0.0,
         1.687242798,
         65.12915129,
         6.976744186,
         {
          "length": 28,
          "values": [
           13.0,
           4.0,
           336.1,
           46923.0,
           2417.0,
           14.1,
           0.0,
           47.0,
           46.3,
           47.6,
           2.24,
           72.3,
           21.9,
           49.1,
           3.0,
           32.6,
           16.1,
           0.9,
           76.1,
           38.1,
           33.6,
           14.2,
           96.83127572,
           0.0,
           0.0,
           1.687242798,
           65.12915129,
           6.976744186
          ],
          "vectorType": "dense"
         },
         146.74285578814386
        ],
        [
         13.0,
         4,
         126.3,
         413.3,
         67260,
         2534,
         9.8,
         0.0,
         45.5,
         45.6,
         45.3,
         2.12,
         55.3,
         0.5,
         72.5,
         1.4,
         27.7,
         24.0,
         3.0,
         60.4,
         39.4,
         24.4,
         9.3,
         80.546875,
         0.0390625,
         3.0078125,
         0.5078125,
         47.78911565,
         5.37428023,
         {
          "length": 28,
          "values": [
           13.0,
           4.0,
           413.3,
           67260.0,
           2534.0,
           9.8,
           0.0,
           45.5,
           45.6,
           45.3,
           2.12,
           55.3,
           0.5,
           72.5,
           1.4,
           27.7,
           24.0,
           3.0,
           60.4,
           39.4,
           24.4,
           9.3,
           80.546875,
           0.0390625,
           3.0078125,
           0.5078125,
           47.78911565,
           5.37428023
          ],
          "vectorType": "dense"
         },
         171.32874481703624
        ]
       ],
       "datasetInfos": [],
       "dbfsResultPath": null,
       "isJsonSchema": true,
       "metadata": {},
       "overflow": false,
       "plotOptions": {
        "customPlotOptions": {},
        "displayType": "table",
        "pivotAggregation": null,
        "pivotColumns": null,
        "xColumns": null,
        "yColumns": null
       },
       "removedWidgets": [],
       "schema": [
        {
         "metadata": "{}",
         "name": "avgAnnCount",
         "type": "\"double\""
        },
        {
         "metadata": "{}",
         "name": "avgDeathsPerYear",
         "type": "\"long\""
        },
        {
         "metadata": "{}",
         "name": "TARGET_deathRate",
         "type": "\"double\""
        },
        {
         "metadata": "{}",
         "name": "incidenceRate",
         "type": "\"double\""
        },
        {
         "metadata": "{}",
         "name": "medIncome",
         "type": "\"long\""
        },
        {
         "metadata": "{}",
         "name": "popEst2015",
         "type": "\"long\""
        },
        {
         "metadata": "{}",
         "name": "povertyPercent",
         "type": "\"double\""
        },
        {
         "metadata": "{}",
         "name": "studyPerCap",
         "type": "\"double\""
        },
        {
         "metadata": "{}",
         "name": "MedianAge",
         "type": "\"double\""
        },
        {
         "metadata": "{}",
         "name": "MedianAgeMale",
         "type": "\"double\""
        },
        {
         "metadata": "{}",
         "name": "MedianAgeFemale",
         "type": "\"double\""
        },
        {
         "metadata": "{}",
         "name": "AvgHouseholdSize",
         "type": "\"double\""
        },
        {
         "metadata": "{}",
         "name": "PercentMarried",
         "type": "\"double\""
        },
        {
         "metadata": "{}",
         "name": "PctNoHS18_24",
         "type": "\"double\""
        },
        {
         "metadata": "{}",
         "name": "PctHS18_24",
         "type": "\"double\""
        },
        {
         "metadata": "{}",
         "name": "PctBachDeg18_24",
         "type": "\"double\""
        },
        {
         "metadata": "{}",
         "name": "PctHS25_Over",
         "type": "\"double\""
        },
        {
         "metadata": "{}",
         "name": "PctBachDeg25_Over",
         "type": "\"double\""
        },
        {
         "metadata": "{}",
         "name": "PctUnemployed16_Over",
         "type": "\"double\""
        },
        {
         "metadata": "{}",
         "name": "PctPrivateCoverage",
         "type": "\"double\""
        },
        {
         "metadata": "{}",
         "name": "PctEmpPrivCoverage",
         "type": "\"double\""
        },
        {
         "metadata": "{}",
         "name": "PctPublicCoverage",
         "type": "\"double\""
        },
        {
         "metadata": "{}",
         "name": "PctPublicCoverageAlone",
         "type": "\"double\""
        },
        {
         "metadata": "{}",
         "name": "PctWhite",
         "type": "\"double\""
        },
        {
         "metadata": "{}",
         "name": "PctBlack",
         "type": "\"double\""
        },
        {
         "metadata": "{}",
         "name": "PctAsian",
         "type": "\"double\""
        },
        {
         "metadata": "{}",
         "name": "PctOtherRace",
         "type": "\"double\""
        },
        {
         "metadata": "{}",
         "name": "PctMarriedHouseholds",
         "type": "\"double\""
        },
        {
         "metadata": "{}",
         "name": "BirthRate",
         "type": "\"double\""
        },
        {
         "metadata": "{}",
         "name": "features",
         "type": "{\"type\":\"udt\",\"class\":\"org.apache.spark.ml.linalg.VectorUDT\",\"pyClass\":\"pyspark.ml.linalg.VectorUDT\",\"sqlType\":{\"type\":\"struct\",\"fields\":[{\"name\":\"type\",\"type\":\"byte\",\"nullable\":false,\"metadata\":{}},{\"name\":\"size\",\"type\":\"integer\",\"nullable\":true,\"metadata\":{}},{\"name\":\"indices\",\"type\":{\"type\":\"array\",\"elementType\":\"integer\",\"containsNull\":false},\"nullable\":true,\"metadata\":{}},{\"name\":\"values\",\"type\":{\"type\":\"array\",\"elementType\":\"double\",\"containsNull\":false},\"nullable\":true,\"metadata\":{}}]}}"
        },
        {
         "metadata": "{}",
         "name": "prediction",
         "type": "\"double\""
        }
       ],
       "type": "table"
      }
     },
     "output_type": "display_data"
    }
   ],
   "source": [
    "display(output_with_predictions.take(10))"
   ]
  },
  {
   "cell_type": "markdown",
   "metadata": {
    "application/vnd.databricks.v1+cell": {
     "cellMetadata": {},
     "inputWidgets": {},
     "nuid": "6f587374-7963-40c4-aa1e-5d438f81f022",
     "showTitle": false,
     "tableResultSettingsMap": {},
     "title": ""
    }
   },
   "source": [
    "Créer un évaluateur correspondant au problème donné (en identifiant bien la typologie du problème). L'utiliser pour évaluer le rmse et le r2 du modèle obtenu."
   ]
  },
  {
   "cell_type": "code",
   "execution_count": 0,
   "metadata": {
    "application/vnd.databricks.v1+cell": {
     "cellMetadata": {
      "byteLimit": 2048000,
      "rowLimit": 10000
     },
     "inputWidgets": {},
     "nuid": "9e89f647-b1a8-4a68-b8f6-2d791edca706",
     "showTitle": false,
     "tableResultSettingsMap": {},
     "title": ""
    }
   },
   "outputs": [
    {
     "output_type": "stream",
     "name": "stdout",
     "output_type": "stream",
     "text": [
      "19.85917239142651\n0.5292225158740397\n"
     ]
    }
   ],
   "source": [
    "evaluator = RegressionEvaluator(\n",
    "    labelCol=target_col,\n",
    "    predictionCol=\"prediction\",\n",
    ")\n",
    "rmse = evaluator.evaluate(output_with_predictions, {evaluator.metricName: \"rmse\"})\n",
    "r2 = evaluator.evaluate(output_with_predictions, {evaluator.metricName: \"r2\"})\n",
    "\n",
    "print(rmse)\n",
    "print(r2)"
   ]
  },
  {
   "cell_type": "markdown",
   "metadata": {
    "application/vnd.databricks.v1+cell": {
     "cellMetadata": {},
     "inputWidgets": {},
     "nuid": "e0ddcd92-bcf0-46b1-95ff-b34cbf97577e",
     "showTitle": false,
     "tableResultSettingsMap": {},
     "title": ""
    }
   },
   "source": [
    "Reprendre les questions précédentes en rajoutant une étape d'ACP à 10 composantes entre le preprocessing et le modèle."
   ]
  },
  {
   "cell_type": "code",
   "execution_count": 0,
   "metadata": {
    "application/vnd.databricks.v1+cell": {
     "cellMetadata": {
      "byteLimit": 2048000,
      "rowLimit": 10000
     },
     "inputWidgets": {},
     "nuid": "6f90d2b1-4681-4a80-870b-c04c280fd096",
     "showTitle": false,
     "tableResultSettingsMap": {},
     "title": ""
    }
   },
   "outputs": [],
   "source": [
    "from pyspark.ml.feature import PCA\n",
    "\n",
    "pca = PCA(k=10, inputCol=\"features\", outputCol=\"pca_features\")\n",
    "lr2 = LinearRegression(featuresCol=\"pca_features\", labelCol=target_col)\n",
    "pipeline2 = Pipeline(stages=[assembler, pca, lr2])"
   ]
  },
  {
   "cell_type": "code",
   "execution_count": 0,
   "metadata": {
    "application/vnd.databricks.v1+cell": {
     "cellMetadata": {
      "byteLimit": 2048000,
      "rowLimit": 10000
     },
     "inputWidgets": {},
     "nuid": "a17a4697-6e1c-4e1a-aa4a-a565b61f534e",
     "showTitle": false,
     "tableResultSettingsMap": {},
     "title": ""
    }
   },
   "outputs": [],
   "source": [
    "res2 = pipeline2.fit(train_data)"
   ]
  },
  {
   "cell_type": "code",
   "execution_count": 0,
   "metadata": {
    "application/vnd.databricks.v1+cell": {
     "cellMetadata": {
      "byteLimit": 2048000,
      "rowLimit": 10000
     },
     "inputWidgets": {},
     "nuid": "036e0780-5adf-4c10-9b42-4713f3e5e843",
     "showTitle": false,
     "tableResultSettingsMap": {},
     "title": ""
    }
   },
   "outputs": [],
   "source": [
    "output_with_predictions2 = res2.transform(test_data)"
   ]
  },
  {
   "cell_type": "code",
   "execution_count": 0,
   "metadata": {
    "application/vnd.databricks.v1+cell": {
     "cellMetadata": {
      "byteLimit": 2048000,
      "rowLimit": 10000
     },
     "inputWidgets": {},
     "nuid": "d9657ccb-513c-4522-9821-bd2be49b4a47",
     "showTitle": false,
     "tableResultSettingsMap": {},
     "title": ""
    }
   },
   "outputs": [
    {
     "output_type": "stream",
     "name": "stdout",
     "output_type": "stream",
     "text": [
      "21.180671737534457\n0.46448350684923656\n"
     ]
    }
   ],
   "source": [
    "rmse_2 = evaluator.evaluate(output_with_predictions2, {evaluator.metricName: \"rmse\"})\n",
    "r2_2 = evaluator.evaluate(output_with_predictions2, {evaluator.metricName: \"r2\"})\n",
    "\n",
    "print(rmse_2)\n",
    "print(r2_2)"
   ]
  },
  {
   "cell_type": "markdown",
   "metadata": {
    "application/vnd.databricks.v1+cell": {
     "cellMetadata": {},
     "inputWidgets": {},
     "nuid": "86b83eba-4e44-4c78-858d-b0d7e137f7fe",
     "showTitle": false,
     "tableResultSettingsMap": {},
     "title": ""
    }
   },
   "source": [
    "Conclure quant à l'utilité de l'ACP dans ce problème à dimension raisonnable."
   ]
  }
 ],
 "metadata": {
  "application/vnd.databricks.v1+notebook": {
   "dashboards": [],
   "environmentMetadata": null,
   "language": "python",
   "notebookMetadata": {
    "mostRecentlyExecutedCommandWithImplicitDF": {
     "commandId": 3946626088042629,
     "dataframes": [
      "_sqldf"
     ]
    },
    "pythonIndentUnit": 4
   },
   "notebookName": "s5_live-coding_ml-training",
   "widgets": {}
  },
  "language_info": {
   "name": "python"
  }
 },
 "nbformat": 4,
 "nbformat_minor": 0
}
