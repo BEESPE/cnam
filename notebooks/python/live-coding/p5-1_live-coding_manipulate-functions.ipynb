{
  "cells": [
    {
      "cell_type": "markdown",
      "metadata": {
        "id": "U0sVoVEswAL6"
      },
      "source": [
        "# <font color=\"purple\"> Functions </font>"
      ]
    },
    {
      "cell_type": "markdown",
      "metadata": {
        "id": "JvYQ5EJZwEdK"
      },
      "source": [
        "## Square and factorial\n",
        "\n",
        "Let's use the [*Python Tutor*](http://www.pythontutor.com/):\n",
        "```python\n",
        "def square(x):\n",
        "    y = x ** 2\n",
        "    return y\n",
        "\n",
        "z = 5\n",
        "result = square(z)\n",
        "print(result)\n",
        "```\n",
        "\n",
        "Next, analyze the following code and try to predict its output:\n",
        "\n",
        "```python\n",
        "def mystery(n):\n",
        "    out = 1\n",
        "    for i in range(2, n + 1):\n",
        "        out = out * i\n",
        "    return out\n",
        "\n",
        "nb = 4\n",
        "calc = mystery(nb)\n",
        "print(\"{}! = {}\".format(nb, calc))\n",
        "nb = 10\n",
        "print(\"{}! = {}\".format(nb, mystery(nb)))\n",
        "```\n",
        "\n",
        "Then, test this code snippet with *Python Tutor*."
      ]
    },
    {
      "cell_type": "markdown",
      "metadata": {
        "id": "JzKkUKBswI0C"
      },
      "source": [
        "## Puissance\n",
        "\n",
        "Créez une fonction `calc_puissance` qui renvoie $x^y$ en utilisant l'opérateur `**`. Pour rappel&nbsp;:\n",
        "\n",
        "```python\n",
        ">>> 2 ** 2\n",
        "4\n",
        ">>> 2 ** 3\n",
        "8\n",
        ">>> 2 ** 4\n",
        "16\n",
        "```\n",
        "\n",
        "Dans une fonction `main`, calculez et affichez à l'écran $2^i$ avec $i$ variant de $0$ à $20$ inclus. Bonus : on souhaite que le résultat soit présenté avec le formatage suivant&nbsp;:\n",
        "\n",
        "```default\n",
        "2^ 0 =       1\n",
        "2^ 1 =       2\n",
        "2^ 2 =       4\n",
        "[...]\n",
        "2^20 = 1048576\n",
        "```"
      ]
    },
    {
      "cell_type": "code",
      "execution_count": 9,
      "metadata": {
        "id": "sYW2PCbkwJY7"
      },
      "outputs": [
        {
          "name": "stdout",
          "output_type": "stream",
          "text": [
            "2^ 0 =       1\n",
            "2^ 1 =       2\n",
            "2^ 2 =       4\n",
            "2^ 3 =       8\n",
            "2^ 4 =      16\n",
            "2^ 5 =      32\n",
            "2^ 6 =      64\n",
            "2^ 7 =     128\n",
            "2^ 8 =     256\n",
            "2^ 9 =     512\n",
            "2^10 =    1024\n",
            "2^11 =    2048\n",
            "2^12 =    4096\n",
            "2^13 =    8192\n",
            "2^14 =   16384\n",
            "2^15 =   32768\n",
            "2^16 =   65536\n",
            "2^17 =  131072\n",
            "2^18 =  262144\n",
            "2^19 =  524288\n",
            "2^20 = 1048576\n"
          ]
        }
      ],
      "source": [
        "def calc_puissance(x: float | int, y: int) -> float | int:\n",
        "    return x ** y\n",
        "\n",
        "\n",
        "def main():\n",
        "    for i in range(21):\n",
        "        print(f\"2^{i:2d} = {calc_puissance(2, i):7d}\")\n",
        "\n",
        "main()\n"
      ]
    },
    {
      "cell_type": "markdown",
      "metadata": {
        "id": "2u9V50VtwOJe"
      },
      "source": [
        "## Pyramide\n",
        "\n",
        "Créez une fonction `gen_pyramide` à laquelle vous passez un nombre entier `n` et qui renvoie une pyramide de $n$ lignes sous forme de chaîne de caractères.\n",
        "\n",
        "Créez ensuite une fonction `main` qui demandera à l'utilisateur le nombre de lignes souhaitées (utilisez pour cela la fonction [`input`](https://docs.python.org/fr/3/library/functions.html#input)) et affichera la pyramide à l'écran.\n",
        "\n",
        "Aide : f\"{'*' * 3:^{20}}\""
      ]
    },
    {
      "cell_type": "code",
      "execution_count": 10,
      "metadata": {
        "id": "LHIt9kyWwPkk"
      },
      "outputs": [
        {
          "data": {
            "text/plain": [
              "20"
            ]
          },
          "execution_count": 10,
          "metadata": {},
          "output_type": "execute_result"
        }
      ],
      "source": [
        "len(f\"{'*' * 3:^{20}}\")"
      ]
    },
    {
      "cell_type": "code",
      "execution_count": 15,
      "metadata": {},
      "outputs": [
        {
          "name": "stdout",
          "output_type": "stream",
          "text": [
            "     *     \n",
            "    ***    \n",
            "   *****   \n",
            "  *******  \n",
            " ********* \n",
            "***********\n"
          ]
        }
      ],
      "source": [
        "def gen_pyramide(n):\n",
        "    for i in range(1, 2 * n + 1, 2):\n",
        "        print(f\"{'*' * i:^{2 * n - 1}}\")\n",
        "\n",
        "gen_pyramide(6)"
      ]
    },
    {
      "cell_type": "code",
      "execution_count": 21,
      "metadata": {},
      "outputs": [],
      "source": [
        "def main():\n",
        "    user_input = -1\n",
        "    while user_input < 1:\n",
        "        user_input = int(\n",
        "            input(\n",
        "                \"Combien de lignes ? (Renseigner un nombre supérieur ou égal à 1)\"\n",
        "            )\n",
        "        )\n",
        "    gen_pyramide(user_input)\n"
      ]
    },
    {
      "cell_type": "code",
      "execution_count": 23,
      "metadata": {},
      "outputs": [],
      "source": [
        "def main():\n",
        "    while True:\n",
        "        user_input = int(\n",
        "            input(\n",
        "                \"Combien de lignes ? (Renseigner un nombre supérieur ou égal à 1)\"\n",
        "            )\n",
        "        )\n",
        "        if user_input > 0:\n",
        "            break\n",
        "    gen_pyramide(user_input)\n"
      ]
    },
    {
      "cell_type": "code",
      "execution_count": 24,
      "metadata": {},
      "outputs": [
        {
          "name": "stdout",
          "output_type": "stream",
          "text": [
            "   *   \n",
            "  ***  \n",
            " ***** \n",
            "*******\n"
          ]
        }
      ],
      "source": [
        "main()"
      ]
    },
    {
      "cell_type": "code",
      "execution_count": 29,
      "metadata": {},
      "outputs": [],
      "source": [
        "def main():\n",
        "    while True:\n",
        "        user_input = input(\n",
        "            \"Combien de lignes ? (Renseigner un nombre supérieur ou égal à 1)\"\n",
        "        )\n",
        "        try:\n",
        "            n_lignes = int(user_input)\n",
        "        except ValueError:\n",
        "            pass\n",
        "        else:\n",
        "            if n_lignes > 0:\n",
        "                break\n",
        "    gen_pyramide(n_lignes)\n"
      ]
    },
    {
      "cell_type": "code",
      "execution_count": 30,
      "metadata": {},
      "outputs": [
        {
          "name": "stdout",
          "output_type": "stream",
          "text": [
            "    *    \n",
            "   ***   \n",
            "  *****  \n",
            " ******* \n",
            "*********\n"
          ]
        }
      ],
      "source": [
        "main()"
      ]
    },
    {
      "cell_type": "markdown",
      "metadata": {
        "id": "fzoG53kPwTPg"
      },
      "source": [
        "## Nombres premiers\n",
        "\n",
        "Créer une fonction `est_premier` qui prend comme argument un nombre entier positif $n \\geq 2$ et qui renvoie le booléen `True` si $n$ est premier et `False` si $n$ n'est pas premier. Ensuite, déterminez tous les nombres premiers de 2 à 100 dans une fonction `main`. On souhaite avoir une sortie similaire à celle-ci&nbsp;:\n",
        "\n",
        "```default\n",
        "  2 est premier\n",
        "  3 est premier\n",
        "  4 n'est pas premier\n",
        "[...]\n",
        "100 n'est pas premier\n",
        "```"
      ]
    },
    {
      "cell_type": "code",
      "execution_count": 39,
      "metadata": {
        "id": "FOTuIve2wUfU"
      },
      "outputs": [],
      "source": [
        "def est_premier(n) -> bool:\n",
        "    for i in range(2, n):\n",
        "        if n % i == 0:\n",
        "            return False\n",
        "    return True\n",
        "\n",
        "\n",
        "def main():\n",
        "    for n in range(2, 101):\n",
        "        if est_premier(n):\n",
        "            print(f\"{n} est premier\")\n",
        "        else:\n",
        "            print(f\"{n} n'est pas premier\")"
      ]
    },
    {
      "cell_type": "code",
      "execution_count": 40,
      "metadata": {},
      "outputs": [
        {
          "name": "stdout",
          "output_type": "stream",
          "text": [
            "2 est premier\n",
            "3 est premier\n",
            "4 n'est pas premier\n",
            "5 est premier\n",
            "6 n'est pas premier\n",
            "7 est premier\n",
            "8 n'est pas premier\n",
            "9 n'est pas premier\n",
            "10 n'est pas premier\n",
            "11 est premier\n",
            "12 n'est pas premier\n",
            "13 est premier\n",
            "14 n'est pas premier\n",
            "15 n'est pas premier\n",
            "16 n'est pas premier\n",
            "17 est premier\n",
            "18 n'est pas premier\n",
            "19 est premier\n",
            "20 n'est pas premier\n",
            "21 n'est pas premier\n",
            "22 n'est pas premier\n",
            "23 est premier\n",
            "24 n'est pas premier\n",
            "25 n'est pas premier\n",
            "26 n'est pas premier\n",
            "27 n'est pas premier\n",
            "28 n'est pas premier\n",
            "29 est premier\n",
            "30 n'est pas premier\n",
            "31 est premier\n",
            "32 n'est pas premier\n",
            "33 n'est pas premier\n",
            "34 n'est pas premier\n",
            "35 n'est pas premier\n",
            "36 n'est pas premier\n",
            "37 est premier\n",
            "38 n'est pas premier\n",
            "39 n'est pas premier\n",
            "40 n'est pas premier\n",
            "41 est premier\n",
            "42 n'est pas premier\n",
            "43 est premier\n",
            "44 n'est pas premier\n",
            "45 n'est pas premier\n",
            "46 n'est pas premier\n",
            "47 est premier\n",
            "48 n'est pas premier\n",
            "49 n'est pas premier\n",
            "50 n'est pas premier\n",
            "51 n'est pas premier\n",
            "52 n'est pas premier\n",
            "53 est premier\n",
            "54 n'est pas premier\n",
            "55 n'est pas premier\n",
            "56 n'est pas premier\n",
            "57 n'est pas premier\n",
            "58 n'est pas premier\n",
            "59 est premier\n",
            "60 n'est pas premier\n",
            "61 est premier\n",
            "62 n'est pas premier\n",
            "63 n'est pas premier\n",
            "64 n'est pas premier\n",
            "65 n'est pas premier\n",
            "66 n'est pas premier\n",
            "67 est premier\n",
            "68 n'est pas premier\n",
            "69 n'est pas premier\n",
            "70 n'est pas premier\n",
            "71 est premier\n",
            "72 n'est pas premier\n",
            "73 est premier\n",
            "74 n'est pas premier\n",
            "75 n'est pas premier\n",
            "76 n'est pas premier\n",
            "77 n'est pas premier\n",
            "78 n'est pas premier\n",
            "79 est premier\n",
            "80 n'est pas premier\n",
            "81 n'est pas premier\n",
            "82 n'est pas premier\n",
            "83 est premier\n",
            "84 n'est pas premier\n",
            "85 n'est pas premier\n",
            "86 n'est pas premier\n",
            "87 n'est pas premier\n",
            "88 n'est pas premier\n",
            "89 est premier\n",
            "90 n'est pas premier\n",
            "91 n'est pas premier\n",
            "92 n'est pas premier\n",
            "93 n'est pas premier\n",
            "94 n'est pas premier\n",
            "95 n'est pas premier\n",
            "96 n'est pas premier\n",
            "97 est premier\n",
            "98 n'est pas premier\n",
            "99 n'est pas premier\n",
            "100 n'est pas premier\n"
          ]
        }
      ],
      "source": [
        "main()"
      ]
    },
    {
      "cell_type": "markdown",
      "metadata": {
        "id": "6my1HZlCwXTt"
      },
      "source": [
        "## Séquence complémentaire\n",
        "\n",
        "Créer une fonction `seq_comp` qui prend comme argument une liste de bases et qui renvoie la séquence complémentaire d'une séquence d'ADN sous forme de liste.\n",
        "\n",
        "Dans le programme principal, à partir de la séquence d'ADN `seq = [\"A\", \"T\", \"C\", \"G\", \"A\", \"T\", \"C\", \"G\", \"A\", \"T\", \"C\"]` affichez `seq` et sa séquence complémentaire (en utilisant votre fonction `seq_comp`).\n",
        "\n",
        "La séquence complémentaire s'obtient en remplaçant `A` par `T`, `T` par `A`, `C` par `G` et `G` par `C`."
      ]
    },
    {
      "cell_type": "code",
      "execution_count": 46,
      "metadata": {
        "id": "YxAUtZCnwX4h"
      },
      "outputs": [
        {
          "data": {
            "text/plain": [
              "['T', 'A', 'G', 'C', 'T', 'A', 'G', 'C', 'T', 'A', 'G']"
            ]
          },
          "execution_count": 46,
          "metadata": {},
          "output_type": "execute_result"
        }
      ],
      "source": [
        "from typing import Iterable\n",
        "\n",
        "base_matching_dict = {\n",
        "    \"A\": \"T\",\n",
        "    \"T\": \"A\",\n",
        "    \"C\": \"G\",\n",
        "    \"G\": \"C\",\n",
        "}\n",
        "\n",
        "def seq_comp(bases: Iterable[str]) -> list[str]:\n",
        "    return [base_matching_dict.get(base) for base in bases]\n",
        "\n",
        "seq = [\"A\", \"T\", \"C\", \"G\", \"A\", \"T\", \"C\", \"G\", \"A\", \"T\", \"C\"]\n",
        "\n",
        "seq_comp(bases=seq)\n",
        "\n"
      ]
    },
    {
      "cell_type": "markdown",
      "metadata": {
        "id": "aq_LQPaqwbZg"
      },
      "source": [
        "## Distance 3D\n",
        "\n",
        "Créez une fonction `calc_distance_3D` qui calcule la distance euclidienne en trois dimensions entre deux points. Testez votre fonction sur les 2 points $A(0, 0, 0)$ et $B(1, 1, 1)$. Trouvez-vous bien $\\sqrt{3}$&nbsp;?\n",
        "\n",
        "On rappelle que la distance euclidienne d entre deux points $A$ et $B$ de coordonnées cartésiennes respectives $(x_A,y_A,z_A)$ et $(x_B,y_B,z_B)$ se calcule comme suit&nbsp;:\n",
        "\n",
        "$$d = \\sqrt{(x_B − x_A)^2 + (y_B − y_A)^2 + (z_B − z_A)^2}$$"
      ]
    },
    {
      "cell_type": "code",
      "execution_count": 47,
      "metadata": {
        "id": "5p1b6Wrewavf"
      },
      "outputs": [],
      "source": [
        "from math import sqrt\n",
        "\n",
        "def calc_distance_3D(xa, ya, za, xb, yb, zb):\n",
        "    return sqrt(\n",
        "        (xb - xa) ** 2\n",
        "        +\n",
        "        (yb - ya) ** 2\n",
        "        +\n",
        "        (zb - za) ** 2\n",
        "    )\n",
        "\n",
        "\n",
        "def calc_distance_3D(point_a, point_b):\n",
        "    return sqrt(\n",
        "        (point_b[0] - point_a[0]) ** 2\n",
        "        +\n",
        "        (point_b[1] - point_a[1]) ** 2\n",
        "        +\n",
        "        (point_b[2] - point_a[2]) ** 2\n",
        "    )\n"
      ]
    },
    {
      "cell_type": "code",
      "execution_count": 49,
      "metadata": {},
      "outputs": [
        {
          "name": "stdout",
          "output_type": "stream",
          "text": [
            "1.7320508075688772\n",
            "1.7320508075688772\n"
          ]
        }
      ],
      "source": [
        "print(calc_distance_3D(point_a=(0, 0, 0), point_b=(1, 1, 1)))\n",
        "print(sqrt(3))"
      ]
    },
    {
      "cell_type": "code",
      "execution_count": 50,
      "metadata": {},
      "outputs": [
        {
          "name": "stdout",
          "output_type": "stream",
          "text": [
            "True\n"
          ]
        }
      ],
      "source": [
        "print(calc_distance_3D(point_a=(0, 0, 0), point_b=(1, 1, 1)) == sqrt(3))"
      ]
    },
    {
      "cell_type": "markdown",
      "metadata": {
        "id": "OKQr_-dGwg9f"
      },
      "source": [
        "## Distribution et statistiques\n",
        "\n",
        "Créez une fonction `gen_distrib` qui prend comme argument trois entiers&nbsp;: `debut`, `fin` et `n`. La fonction renverra une liste de `n` *floats* aléatoires entre `debut` et `fin`. Pour générer un nombre aléatoire dans un intervalle donné, utilisez la fonction [`uniform`](https://docs.python.org/fr/3/library/random.html#random.uniform) du module `random` dont voici quelques exemples d'utilisation&nbsp;:\n",
        "\n",
        "```python\n",
        ">>> import random\n",
        ">>> random.uniform(1, 10)\n",
        "8.199672607202174\n",
        ">>> random.uniform(1, 10)\n",
        "2.607528561528022\n",
        ">>> random.uniform(1, 10)\n",
        "9.000404025130946\n",
        "```\n",
        "\n",
        "Avec la fonction `random.uniform`, les bornes passées en argument sont incluses, c'est-à-dire qu'ici, le nombre aléatoire renvoyé est dans l'intervalle $[1, 10]$.\n",
        "\n",
        "Créez une autre fonction `calc_stat` qui prend en argument une liste de *floats* et qui renvoie un tuple de trois éléments contenant respectivement le minimum, le maximum et la moyenne de la liste.\n",
        "\n",
        "Dans une dernière fonction `main` qui prend en argument $n$ le nombre d'éléments à générer pour chaque liste, générez 20 listes aléatoires de $n$ *floats* compris entre 0 et 100 et affichez le minimum ([`min`](https://docs.python.org/fr/3/library/functions.html#min)), le maximum ([`max`](https://docs.python.org/fr/3/library/functions.html#max)) et la moyenne pour chacune d'entre elles. La moyenne pourra être calculée avec les fonctions [`sum`](https://docs.python.org/fr/3/library/functions.html#sum) et [`len`](https://docs.python.org/fr/3/library/functions.html#len).\n",
        "\n",
        "Pour chacune des 20 listes, affichez les statistiques (min, max, et moyenne) avec deux chiffres après la virgule&nbsp;:\n",
        "\n",
        "```default\n",
        "Liste  1 : min = 0.17 ; max = 99.72 ; moyenne = 57.38\n",
        "Liste  2 : min = 1.25 ; max = 99.99 ; moyenne = 47.41\n",
        "[...]\n",
        "Liste 19 : min = 1.05 ; max = 99.36 ; moyenne = 49.43\n",
        "Liste 20 : min = 1.33 ; max = 97.63 ; moyenne = 46.53\n",
        "```\n",
        "\n",
        "Les écarts sur les statistiques entre les différentes listes sont-ils importants&nbsp;? Testez `main` avec $n$ à 20, 1000 et 10&nbsp;000. Les écarts changent-ils quand le nombre d'éléments par liste augmente&nbsp;?"
      ]
    },
    {
      "cell_type": "code",
      "execution_count": 76,
      "metadata": {},
      "outputs": [],
      "source": [
        "def main(n):\n",
        "    for i in range(1, 21):\n",
        "        min_value, max_value, mean_value = calc_stats(\n",
        "            gen_distrib(0, 100, n)\n",
        "        )\n",
        "        print(f\"Liste {i:2d} : min = {min_value:.2f} ; max = {max_value:.2f} ...\")\n"
      ]
    },
    {
      "cell_type": "code",
      "execution_count": 77,
      "metadata": {},
      "outputs": [
        {
          "name": "stdout",
          "output_type": "stream",
          "text": [
            "Liste  1 : min = 1.49 ; max = 89.56 ...\n",
            "Liste  2 : min = 3.05 ; max = 98.00 ...\n",
            "Liste  3 : min = 4.71 ; max = 96.99 ...\n",
            "Liste  4 : min = 1.42 ; max = 98.97 ...\n",
            "Liste  5 : min = 4.02 ; max = 98.98 ...\n",
            "Liste  6 : min = 2.64 ; max = 98.09 ...\n",
            "Liste  7 : min = 2.02 ; max = 98.99 ...\n",
            "Liste  8 : min = 5.20 ; max = 97.28 ...\n",
            "Liste  9 : min = 1.94 ; max = 99.29 ...\n",
            "Liste 10 : min = 4.96 ; max = 88.63 ...\n",
            "Liste 11 : min = 1.05 ; max = 90.64 ...\n",
            "Liste 12 : min = 2.71 ; max = 84.76 ...\n",
            "Liste 13 : min = 5.84 ; max = 98.34 ...\n",
            "Liste 14 : min = 1.24 ; max = 98.73 ...\n",
            "Liste 15 : min = 4.35 ; max = 96.96 ...\n",
            "Liste 16 : min = 2.25 ; max = 94.54 ...\n",
            "Liste 17 : min = 12.38 ; max = 97.24 ...\n",
            "Liste 18 : min = 3.21 ; max = 80.76 ...\n",
            "Liste 19 : min = 0.11 ; max = 99.88 ...\n",
            "Liste 20 : min = 6.51 ; max = 98.78 ...\n"
          ]
        }
      ],
      "source": [
        "main(20)"
      ]
    },
    {
      "cell_type": "code",
      "execution_count": 56,
      "metadata": {
        "id": "UdbpdRu9whiR"
      },
      "outputs": [],
      "source": [
        "import random\n",
        "\n",
        "def gen_distrib(debut, fin, n):\n",
        "    return [random.uniform(debut, fin) for _ in range(n)]"
      ]
    },
    {
      "cell_type": "code",
      "execution_count": 64,
      "metadata": {},
      "outputs": [],
      "source": [
        "generated_floats = gen_distrib(0, 100, 10)"
      ]
    },
    {
      "cell_type": "code",
      "execution_count": 67,
      "metadata": {},
      "outputs": [
        {
          "name": "stdout",
          "output_type": "stream",
          "text": [
            "[82.61539073922182, 99.04884864888463, 31.304953354795707, 83.83583841461802, 16.837392023444743, 92.6890199883767, 17.35157406377308, 17.6834138603413, 65.39085597471477, 39.630457025262544]\n"
          ]
        }
      ],
      "source": [
        "print(generated_floats)"
      ]
    },
    {
      "cell_type": "code",
      "execution_count": 65,
      "metadata": {},
      "outputs": [],
      "source": [
        "def calc_stats(floats_iter):\n",
        "    return min(floats_iter), max(floats_iter), sum(floats_iter) / len(floats_iter)\n"
      ]
    },
    {
      "cell_type": "code",
      "execution_count": 66,
      "metadata": {},
      "outputs": [
        {
          "data": {
            "text/plain": [
              "(16.837392023444743, 99.04884864888463, 54.63877440934333)"
            ]
          },
          "execution_count": 66,
          "metadata": {},
          "output_type": "execute_result"
        }
      ],
      "source": [
        "calc_stats(generated_floats)"
      ]
    },
    {
      "cell_type": "markdown",
      "metadata": {
        "id": "TFSF2TQDv0lH"
      },
      "source": [
        "## Distance à l'origine\n",
        "\n",
        "En reprenant votre fonction de calcul de distance euclidienne en 3D `calc_distance_3D`, faites-en une version pour deux dimensions que vous appellerez `calc_distance_2D`.\n",
        "\n",
        "Créez une autre fonction `calc_distance_listes` à laquelle vous passez en argument deux listes de *floats* `list_x` et `list_y` représentant les coordonnées d'une fonction mathématique (par exemple $x$ et $\\sin x$). Cette fonction renverra une liste de *floats* représentant la distance entre chaque point de la fonction et l'origine (de coordonnées $(0, 0)$).\n",
        "\n",
        "Le schéma suivant montre un exemple sur quelques points de la fonction $\\sin x$ (courbe en trait épais). Chaque trait pointillé représente la distance que l'on cherche à calculer entre les points de la courbe et l'origine du repère de coordonnées $(0, 0)$.\n",
        "\n",
        "![Illustration de la distance à l'origine.](https://raw.githubusercontent.com/mlambda/langage-python/main/img/sin2ori.png \"Illustration de la distance à l'origine.\")\n",
        "\n",
        "Générez un fichier `sin2ori.dat` qui contiendra deux colonnes&nbsp;: la première représente les $x$, la seconde la distance entre chaque point de la fonction $\\sin x$ à l'origine.\n",
        "\n",
        "Une fois le fichier généré, vous pourrez exécuter la cellule de visualisation."
      ]
    },
    {
      "cell_type": "code",
      "execution_count": 79,
      "metadata": {
        "id": "Nsd4X54_wkjy"
      },
      "outputs": [],
      "source": [
        "def calc_distance_2D(point_a, point_b):\n",
        "    return sqrt(\n",
        "        (point_b[0] - point_a[0]) ** 2\n",
        "        +\n",
        "        (point_b[1] - point_a[1]) ** 2\n",
        "    )\n",
        "\n",
        "def calc_distances_list(list_x, list_y):\n",
        "    return [\n",
        "        calc_distance_2D(\n",
        "            (list_x[i], list_y[i]),\n",
        "            (0, 0),\n",
        "        )\n",
        "        for i in range(len(list_x))\n",
        "    ]"
      ]
    },
    {
      "cell_type": "code",
      "execution_count": 88,
      "metadata": {},
      "outputs": [],
      "source": [
        "from math import sin\n",
        "\n",
        "x = [elt / 100 for elt in list(range(-300, 301))]\n",
        "y = [sin(elt) for elt in x]\n",
        "distances = calc_distances_list(x, y)"
      ]
    },
    {
      "cell_type": "code",
      "execution_count": 91,
      "metadata": {},
      "outputs": [],
      "source": [
        "with open(\"sin2ori.dat\", mode=\"w\", encoding=\"utf8\") as f:\n",
        "    for i in range(len(x)):\n",
        "        f.write(f\"{x[i]};{distances[i]}\\n\")"
      ]
    },
    {
      "cell_type": "code",
      "execution_count": 93,
      "metadata": {},
      "outputs": [
        {
          "name": "stdout",
          "output_type": "stream",
          "text": [
            "Collecting matplotlib\n",
            "  Downloading matplotlib-3.9.2-cp313-cp313-win_amd64.whl.metadata (11 kB)\n",
            "Collecting contourpy>=1.0.1 (from matplotlib)\n",
            "  Downloading contourpy-1.3.0-cp313-cp313-win_amd64.whl.metadata (5.4 kB)\n",
            "Collecting cycler>=0.10 (from matplotlib)\n",
            "  Downloading cycler-0.12.1-py3-none-any.whl.metadata (3.8 kB)\n",
            "Collecting fonttools>=4.22.0 (from matplotlib)\n",
            "  Downloading fonttools-4.54.1-cp313-cp313-win_amd64.whl.metadata (167 kB)\n",
            "Collecting kiwisolver>=1.3.1 (from matplotlib)\n",
            "  Downloading kiwisolver-1.4.7-cp313-cp313-win_amd64.whl.metadata (6.4 kB)\n",
            "Collecting numpy>=1.23 (from matplotlib)\n",
            "  Downloading numpy-2.1.2-cp313-cp313-win_amd64.whl.metadata (59 kB)\n",
            "Requirement already satisfied: packaging>=20.0 in c:\\users\\orsys\\appdata\\roaming\\python\\python313\\site-packages (from matplotlib) (24.1)\n",
            "Collecting pillow>=8 (from matplotlib)\n",
            "  Downloading pillow-11.0.0-cp313-cp313-win_amd64.whl.metadata (9.3 kB)\n",
            "Collecting pyparsing>=2.3.1 (from matplotlib)\n",
            "  Downloading pyparsing-3.2.0-py3-none-any.whl.metadata (5.0 kB)\n",
            "Requirement already satisfied: python-dateutil>=2.7 in c:\\users\\orsys\\appdata\\roaming\\python\\python313\\site-packages (from matplotlib) (2.9.0.post0)\n",
            "Requirement already satisfied: six>=1.5 in c:\\users\\orsys\\appdata\\roaming\\python\\python313\\site-packages (from python-dateutil>=2.7->matplotlib) (1.16.0)\n",
            "Downloading matplotlib-3.9.2-cp313-cp313-win_amd64.whl (7.8 MB)\n",
            "   ---------------------------------------- 0.0/7.8 MB ? eta -:--:--\n",
            "   ---------------------------------------- 7.8/7.8 MB 105.2 MB/s eta 0:00:00\n",
            "Downloading contourpy-1.3.0-cp313-cp313-win_amd64.whl (218 kB)\n",
            "Downloading cycler-0.12.1-py3-none-any.whl (8.3 kB)\n",
            "Downloading fonttools-4.54.1-cp313-cp313-win_amd64.whl (2.2 MB)\n",
            "   ---------------------------------------- 0.0/2.2 MB ? eta -:--:--\n",
            "   ---------------------------------------- 2.2/2.2 MB 106.4 MB/s eta 0:00:00\n",
            "Downloading kiwisolver-1.4.7-cp313-cp313-win_amd64.whl (55 kB)\n",
            "Downloading numpy-2.1.2-cp313-cp313-win_amd64.whl (12.6 MB)\n",
            "   ---------------------------------------- 0.0/12.6 MB ? eta -:--:--\n",
            "   ---------------------------------------- 12.6/12.6 MB 116.8 MB/s eta 0:00:00\n",
            "Downloading pillow-11.0.0-cp313-cp313-win_amd64.whl (2.6 MB)\n",
            "   ---------------------------------------- 0.0/2.6 MB ? eta -:--:--\n",
            "   ---------------------------------------- 2.6/2.6 MB 119.2 MB/s eta 0:00:00\n",
            "Downloading pyparsing-3.2.0-py3-none-any.whl (106 kB)\n",
            "Installing collected packages: pyparsing, pillow, numpy, kiwisolver, fonttools, cycler, contourpy, matplotlib\n",
            "Successfully installed contourpy-1.3.0 cycler-0.12.1 fonttools-4.54.1 kiwisolver-1.4.7 matplotlib-3.9.2 numpy-2.1.2 pillow-11.0.0 pyparsing-3.2.0\n"
          ]
        }
      ],
      "source": [
        "!pip install matplotlib"
      ]
    },
    {
      "cell_type": "code",
      "execution_count": 95,
      "metadata": {
        "id": "0HNpuoZFAt2W"
      },
      "outputs": [
        {
          "data": {
            "image/png": "[encoded data removed]",
            "text/plain": [
              "<Figure size 800x800 with 1 Axes>"
            ]
          },
          "metadata": {},
          "output_type": "display_data"
        }
      ],
      "source": [
        "import matplotlib.pyplot as plt\n",
        "\n",
        "xs = []\n",
        "ys = []\n",
        "with open(\"sin2ori.dat\", \"r\") as f_in:\n",
        "    for line in f_in:\n",
        "        x, y = map(float, line.split(\";\"))\n",
        "        xs.append(x)\n",
        "        ys.append(y)\n",
        "plt.figure(figsize=(8, 8))\n",
        "plt.plot(xs, ys)\n",
        "plt.xlabel(\"x\")\n",
        "plt.ylabel(\"Distance de sin(x) à l'origine\")\n",
        "plt.show()"
      ]
    },
    {
      "cell_type": "code",
      "execution_count": null,
      "metadata": {},
      "outputs": [],
      "source": []
    }
  ],
  "metadata": {
    "colab": {
      "collapsed_sections": [
        "BpVe-mCLx8O2",
        "x9Eeon1PzTsA",
        "GNYlmuRF5wSd",
        "dWicOGiu75FN",
        "WtTdhfv01j_a",
        "Z78Hs3609cSU",
        "kWFFZRxaA82W"
      ],
      "private_outputs": true,
      "provenance": [],
      "toc_visible": true
    },
    "kernelspec": {
      "display_name": "Python 3",
      "name": "python3"
    },
    "language_info": {
      "codemirror_mode": {
        "name": "ipython",
        "version": 3
      },
      "file_extension": ".py",
      "mimetype": "text/x-python",
      "name": "python",
      "nbconvert_exporter": "python",
      "pygments_lexer": "ipython3",
      "version": "3.13.0"
    }
  },
  "nbformat": 4,
  "nbformat_minor": 0
}
