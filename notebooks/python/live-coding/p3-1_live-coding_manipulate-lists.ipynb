{
  "cells": [
    {
      "cell_type": "markdown",
      "metadata": {
        "id": "XBgLFzVZ8PlB"
      },
      "source": [
        "# <font color=\"purple\"> Manipulate lists </font>"
      ]
    },
    {
      "cell_type": "markdown",
      "metadata": {
        "id": "RQiURHhX5MnI"
      },
      "source": [
        "## <font color=\"green\"> Days of the week </font>\n",
        "\n",
        "Create a  list `week` containing the 7 days of the week.\n",
        "\n",
        "- From this list, how do you retrieve only the first 5 days of the week on one hand, and those of the weekend on the other hand? Use positive indexing for this.\n",
        "- Achieve the same result using negative indexing.\n",
        "- Access the last day of the week.\n",
        "- Reverse the days of the week in one command."
      ]
    },
    {
      "cell_type": "code",
      "execution_count": 1,
      "metadata": {
        "id": "POmuZE1v5bNG"
      },
      "outputs": [],
      "source": [
        "week = [\n",
        "    \"monday\",\n",
        "    \"tuesday\",\n",
        "    \"wednesday\",\n",
        "    \"thursday\",\n",
        "    \"friday\",\n",
        "    \"saturday\",\n",
        "    \"sunday\",\n",
        "]"
      ]
    },
    {
      "cell_type": "code",
      "execution_count": 6,
      "metadata": {},
      "outputs": [
        {
          "name": "stdout",
          "output_type": "stream",
          "text": [
            "['monday', 'tuesday', 'wednesday', 'thursday', 'friday']\n",
            "['saturday', 'sunday']\n",
            "['monday', 'tuesday', 'wednesday', 'thursday', 'friday']\n",
            "['saturday', 'sunday']\n",
            "sunday\n",
            "['sunday', 'saturday', 'friday', 'thursday', 'wednesday', 'tuesday', 'monday']\n"
          ]
        }
      ],
      "source": [
        "print(week[:5])\n",
        "print(week[5:])\n",
        "\n",
        "print(week[:-2])\n",
        "print(week[-2:])\n",
        "\n",
        "print(week[-1])\n",
        "\n",
        "print(week[::-1])"
      ]
    },
    {
      "cell_type": "markdown",
      "metadata": {
        "id": "OgYyKCqb5Qaz"
      },
      "source": [
        "## <font color=\"green\"> Seasons </font>\n",
        "\n",
        "Create 4 lists `winter`, `spring`, `summer`, and `autumn` containing the corresponding months of these seasons. Then, create a list `seasons` containing the lists `winter`, `spring`, `summer`, and `autumn`. Predict what the following instructions return, then verify it in the interpreter.\n",
        "\n",
        "- `seasons[2]`\n",
        "- `seasons[1][0]`\n",
        "- `seasons[1:2]`\n",
        "- `seasons[:][1]`"
      ]
    },
    {
      "cell_type": "code",
      "execution_count": 16,
      "metadata": {
        "id": "zMXxIdLZ5Z8n"
      },
      "outputs": [],
      "source": [
        "winter = [\"december\", \"january\", \"february\"]\n",
        "spring = [\"march\", \"april\", \"may\"]\n",
        "summer = [\"june\", \"july\", \"august\"]\n",
        "autumn = [\"september\", \"october\", \"november\"]\n",
        "\n",
        "seasons = [winter, spring, summer, autumn]"
      ]
    },
    {
      "cell_type": "markdown",
      "metadata": {
        "id": "M0D2vYnK5T3i"
      },
      "source": [
        "## <font color=\"green\"> Multiplication table of 9 </font>\n",
        "\n",
        "Display the results of the multiplication table by 9 (from $9 \\times 1$ to $9 \\times 10$) in a single command using the [`range`](https://docs.python.org/fr/3/library/functions.html#func-range) and [`list`](https://docs.python.org/fr/3/library/functions.html#func-list) instructions."
      ]
    },
    {
      "cell_type": "code",
      "execution_count": 18,
      "metadata": {
        "id": "aZ0ZJOTM5YzR"
      },
      "outputs": [
        {
          "name": "stdout",
          "output_type": "stream",
          "text": [
            "[9, 18, 27, 36, 45, 54, 63, 72, 81, 90]\n"
          ]
        }
      ],
      "source": [
        "print(list(range(9, 9 * 10 + 1, 9)))"
      ]
    },
    {
      "cell_type": "code",
      "execution_count": 25,
      "metadata": {},
      "outputs": [
        {
          "name": "stdout",
          "output_type": "stream",
          "text": [
            "False\n"
          ]
        }
      ],
      "source": [
        "my_list = [1, 3, 5]\n",
        "print(3 not in my_list)"
      ]
    }
  ],
  "metadata": {
    "colab": {
      "collapsed_sections": [
        "NAHFEWYf5dZ_",
        "ZB15J-Zb6hIv",
        "T6YXMy1u7dI1",
        "3mRq22Eq8AEM"
      ],
      "private_outputs": true,
      "provenance": []
    },
    "kernelspec": {
      "display_name": "Python 3",
      "name": "python3"
    },
    "language_info": {
      "codemirror_mode": {
        "name": "ipython",
        "version": 3
      },
      "file_extension": ".py",
      "mimetype": "text/x-python",
      "name": "python",
      "nbconvert_exporter": "python",
      "pygments_lexer": "ipython3",
      "version": "3.13.0"
    }
  },
  "nbformat": 4,
  "nbformat_minor": 0
}
